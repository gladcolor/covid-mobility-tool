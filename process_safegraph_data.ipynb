{
 "cells": [
  {
   "cell_type": "code",
   "execution_count": 1,
   "metadata": {},
   "outputs": [
    {
     "name": "stdout",
     "output_type": "stream",
     "text": [
      "Setting numpy cores to 1\n",
      "Running code on rambo.stanford.edu; at Stanford=True\n"
     ]
    },
    {
     "name": "stderr",
     "output_type": "stream",
     "text": [
      "ERROR:fbprophet:Importing plotly failed. Interactive plots will not work.\n"
     ]
    }
   ],
   "source": [
    "%load_ext autoreload\n",
    "%autoreload 2\n",
    "from covid_constants_and_util import *\n",
    "import helper_methods_for_aggregate_data_analysis as helper\n",
    "import pandas as pd\n",
    "import os\n",
    "import matplotlib.pyplot as plt\n",
    "import json\n",
    "import datetime\n",
    "import scipy\n",
    "import time\n",
    "\n",
    "JUST_TESTING = False"
   ]
  },
  {
   "cell_type": "code",
   "execution_count": 2,
   "metadata": {},
   "outputs": [],
   "source": [
    "COLS_FROM_CORE_PLACES = ['safegraph_place_id', 'parent_safegraph_place_id', 'location_name', 'safegraph_brand_ids', \n",
    "                         'brands', 'top_category', 'sub_category', 'naics_code', 'latitude', 'longitude', 'street_address',\n",
    "                         'city', 'region', 'postal_code', 'open_hours']\n",
    "COLS_FROM_CORE_PLACES_FOOTPRINT = ['safegraph_place_id', 'polygon_class', 'area_square_feet']\n",
    "COLS_FROM_WEEKLY_PATTERNS = ['safegraph_place_id', 'poi_cbg', 'visitor_home_cbgs', 'visitor_daytime_cbgs', \n",
    "                             'visitor_country_of_origin', 'distance_from_home', 'median_dwell', 'bucketed_dwell_times']"
   ]
  },
  {
   "cell_type": "code",
   "execution_count": 3,
   "metadata": {
    "scrolled": true
   },
   "outputs": [
    {
     "name": "stdout",
     "output_type": "stream",
     "text": [
      "Loading /dfs/scratch2/second_safegraph_homes/all_aggregate_data/raw_safegraph_data/core_places/2020/10/core_poi-part1.csv.gz\n",
      "[########################################] | 100% Completed |  9.8s\n",
      "Loading /dfs/scratch2/second_safegraph_homes/all_aggregate_data/raw_safegraph_data/core_places/2020/10/core_poi-part2.csv.gz\n",
      "[########################################] | 100% Completed |  8.7s\n",
      "Loading /dfs/scratch2/second_safegraph_homes/all_aggregate_data/raw_safegraph_data/core_places/2020/10/core_poi-part3.csv.gz\n",
      "[########################################] | 100% Completed |  8.6s\n",
      "Loading /dfs/scratch2/second_safegraph_homes/all_aggregate_data/raw_safegraph_data/core_places/2020/10/core_poi-part4.csv.gz\n",
      "[########################################] | 100% Completed |  8.4s\n",
      "Loading /dfs/scratch2/second_safegraph_homes/all_aggregate_data/raw_safegraph_data/core_places/2020/10/core_poi-part5.csv.gz\n",
      "[########################################] | 100% Completed |  8.4s\n",
      "Loading core places info for 5333501 POIs\n"
     ]
    }
   ],
   "source": [
    "core_poi_df = helper.load_core_places_data(COLS_FROM_CORE_PLACES)"
   ]
  },
  {
   "cell_type": "code",
   "execution_count": 4,
   "metadata": {},
   "outputs": [
    {
     "name": "stdout",
     "output_type": "stream",
     "text": [
      "Loading /dfs/scratch2/second_safegraph_homes/all_aggregate_data/raw_safegraph_data/core_places_footprint/August2020Release/SafeGraphPlacesGeoSupplementSquareFeet.csv.gz\n",
      "[########################################] | 100% Completed | 11.4s\n",
      "Loaded core places footprint data for 5304326 POIs\n",
      "Warning: 120803/5304326 (2.3%) POIs in footprint but not core data; dropping these\n",
      "Missing data for footprint columns\n",
      "polygon_class       0.02812\n",
      "area_square_feet    0.02812\n",
      "dtype: float64\n"
     ]
    }
   ],
   "source": [
    "footprint_df = helper.load_core_places_footprint_data(COLS_FROM_CORE_PLACES_FOOTPRINT)\n",
    "ids_in_footprint_but_not_core = set(footprint_df.index) - set(core_poi_df.index)\n",
    "print(\"Warning: %i/%i (%.1f%%) POIs in footprint but not core data; dropping these\" % \n",
    "      (len(ids_in_footprint_but_not_core), len(footprint_df), 100. * len(ids_in_footprint_but_not_core) / len(footprint_df)))\n",
    "core_poi_df = pd.merge(core_poi_df, footprint_df, how='left', left_index=True, right_index=True, validate='one_to_one')\n",
    "print(\"Missing data for footprint columns\")\n",
    "print(pd.isnull(core_poi_df[footprint_df.columns]).mean())"
   ]
  },
  {
   "cell_type": "markdown",
   "metadata": {},
   "source": [
    "# Combine Core/Footprint/Weekly data and write out to MSA files"
   ]
  },
  {
   "cell_type": "markdown",
   "metadata": {},
   "source": [
    "In this section, we process the raw SafeGraph Weekly Patterns data and divide the processing output into separate csv files per metropolitan statistical area (MSA). In processing the data, we:\n",
    "- Expand the visits_by_each_hour column into one column per hour.\n",
    "- Correct the visit spikes at the GMT midnight boundary (this is a known error with hourly SafeGraph data).\n",
    "- Drop parent POIs so we don't double-count visits.\n",
    "- Add an MSA column based on the POI's census block group (if that information is provided)."
   ]
  },
  {
   "cell_type": "code",
   "execution_count": 6,
   "metadata": {},
   "outputs": [
    {
     "name": "stdout",
     "output_type": "stream",
     "text": [
      "Time period: 2021-02-03 to 2021-02-10 (7 days, 0:00:00)\n"
     ]
    }
   ],
   "source": [
    "# first and last week of the latest Weekly data to process\n",
    "start_date = datetime.datetime(2021, 2, 3)\n",
    "end_date = datetime.datetime(2021, 2, 10)\n",
    "print('Time period: %s to %s (%s)' % (start_date.strftime('%Y-%m-%d'), end_date.strftime('%Y-%m-%d'), end_date - start_date))"
   ]
  },
  {
   "cell_type": "code",
   "execution_count": null,
   "metadata": {
    "scrolled": true
   },
   "outputs": [],
   "source": [
    "base = core_poi_df.copy()\n",
    "while start_date <= end_date:\n",
    "    week_string = start_date.strftime('%Y-%m-%d')\n",
    "    print('===== WEEK STRING: %s =====' % week_string)\n",
    "    weekly_df = helper.load_weekly_patterns_v2_data(week_string, COLS_FROM_WEEKLY_PATTERNS, expand_hourly_visits=True)\n",
    "    weekly_df = weekly_df.rename(columns={k:f'{week_string}.{k}' for k in weekly_df.columns if not(k.startswith('hourly_visits_'))})\n",
    "    ids_in_weekly_but_not_core = set(weekly_df.index) - set(base.index)\n",
    "    print(\"Warning: %i/%i (%.1f%%) POIs in weekly but not core data; dropping these\" % \n",
    "          (len(ids_in_weekly_but_not_core), len(weekly_df), 100. * len(ids_in_weekly_but_not_core) / len(weekly_df)))\n",
    "    # left merge means we are only keeping the POIs that we have core info for\n",
    "    base = pd.merge(base, weekly_df, how='left', left_index=True, right_index=True, validate='one_to_one')\n",
    "    print(\"Missing data for weekly columns\")\n",
    "    print(pd.isnull(base[weekly_df.columns]).mean())\n",
    "    start_date = start_date + datetime.timedelta(days=7)"
   ]
  },
  {
   "cell_type": "code",
   "execution_count": null,
   "metadata": {},
   "outputs": [],
   "source": [
    "def get_single_poi_cbg_col(base):\n",
    "    poi_cbg_cols = sorted([col for col in base.columns if col.endswith('poi_cbg')])  # put into temporal order\n",
    "    current_data = base[poi_cbg_cols[0]].copy()\n",
    "    print('Processed col %s -> num POIs currently missing CBG: %d' % (poi_cbg_cols[0], np.sum(pd.isnull(current_data))))\n",
    "    for col_name in poi_cbg_cols[1:]:\n",
    "        new_data = base[col_name]\n",
    "        non_null = ~pd.isnull(new_data)\n",
    "        current_data.loc[non_null] = new_data.loc[non_null]\n",
    "        print('Processed col %s -> num POIs currently missing CBG: %d' % (col_name, np.sum(pd.isnull(current_data))))\n",
    "    return current_data\n",
    "\n",
    "base['single_poi_cbg'] = get_single_poi_cbg_col(base)"
   ]
  },
  {
   "cell_type": "code",
   "execution_count": null,
   "metadata": {},
   "outputs": [],
   "source": [
    "def map_poi_cbg_to_msa_info(x, msa_info):\n",
    "    if pd.isnull(x):\n",
    "        return 'Missing POI CBG'\n",
    "    x_as_int = int(x)\n",
    "    if x_as_int in msa_info:\n",
    "        return msa_info[x_as_int]\n",
    "    return 'Missing ACS data'\n",
    "\n",
    "acs_d = helper.load_and_reconcile_multiple_acs_data()\n",
    "cbg2metro_micro = dict(zip(acs_d.census_block_group, acs_d['Metropolitan/Micropolitan Statistical Area']))\n",
    "cbg2cbsa = dict(zip(acs_d.census_block_group, acs_d['CBSA Title']))\n",
    "base['poi_metro_micro'] = base['single_poi_cbg'].map(lambda x:map_poi_cbg_to_msa_info(x, cbg2metro_micro))\n",
    "base['poi_cbsa'] = base['single_poi_cbg'].map(lambda x:map_poi_cbg_to_msa_info(x, cbg2cbsa))\n",
    "base['poi_cbsa'].value_counts()"
   ]
  },
  {
   "cell_type": "code",
   "execution_count": null,
   "metadata": {},
   "outputs": [],
   "source": [
    "just_in_msas = base[base.poi_metro_micro == 'Metropolitan Statistical Area']\n",
    "print(\"%i/%i POIs are in MSAs (%i MSAs total)\" % (len(just_in_msas), \n",
    "                                                  len(base), \n",
    "                                                  len(just_in_msas['poi_cbsa'].unique())))"
   ]
  },
  {
   "cell_type": "code",
   "execution_count": 5,
   "metadata": {},
   "outputs": [
    {
     "name": "stdout",
     "output_type": "stream",
     "text": [
      "/dfs/scratch2/second_safegraph_homes/all_aggregate_data/stratified_by_metro_area/20210125_20210201\n"
     ]
    }
   ],
   "source": [
    "OUT_DIR = os.path.join(NEW_STRATIFIED_BY_AREA_DIR, '20210125_20210201')\n",
    "assert os.path.isdir(OUT_DIR)\n",
    "print(OUT_DIR)"
   ]
  },
  {
   "cell_type": "markdown",
   "metadata": {},
   "source": [
    "### Write to file: if we're starting a new chunk in stratified_by_metro_area"
   ]
  },
  {
   "cell_type": "code",
   "execution_count": null,
   "metadata": {
    "scrolled": true
   },
   "outputs": [],
   "source": [
    "grouped_by_msa = just_in_msas.groupby('poi_cbsa')\n",
    "total_written_out = 0\n",
    "for msa_name, small_d in grouped_by_msa:\n",
    "    small_d = small_d.copy().sample(frac=1) # make sure rows in random order. \n",
    "    name_without_spaces = re.sub('[^0-9a-zA-Z]+', '_', msa_name)\n",
    "    filename = os.path.join(OUT_DIR, '%s.csv' % name_without_spaces)\n",
    "    small_d.to_csv(filename)\n",
    "    print(\"Wrote out dataframe with %i POIs to %s.csv\" % (len(small_d), name_without_spaces))\n",
    "    total_written_out += 1\n",
    "print(\"Total written out: %i\" % total_written_out)"
   ]
  },
  {
   "cell_type": "markdown",
   "metadata": {},
   "source": [
    "### Write to file: if we're concatenating with existing chunk in stratified_by_metro_area"
   ]
  },
  {
   "cell_type": "code",
   "execution_count": null,
   "metadata": {
    "scrolled": true
   },
   "outputs": [],
   "source": [
    "grouped_by_msa = just_in_msas.groupby('poi_cbsa')\n",
    "total_written_out = 0\n",
    "prev_out_dir = os.path.join(NEW_STRATIFIED_BY_AREA_DIR, '20201026_20201228')\n",
    "assert prev_out_dir != OUT_DIR\n",
    "for msa_name, small_d in grouped_by_msa:\n",
    "    ts = time.time()\n",
    "    name_without_spaces = re.sub('[^0-9a-zA-Z]+', '_', msa_name)\n",
    "    filename = os.path.join(OUT_DIR, '%s.csv' % name_without_spaces)\n",
    "    prev_filename = os.path.join(prev_out_dir, '%s.csv' % name_without_spaces)\n",
    "    prev_d = pd.read_csv(prev_filename)\n",
    "    prev_d = prev_d.set_index('safegraph_place_id')\n",
    "    new_cols = [col for col in small_d.columns if col not in prev_d]\n",
    "    merged_d = prev_d.merge(small_d[new_cols], how='outer', left_index=True, right_index=True)\n",
    "    merged_d.to_csv(filename)\n",
    "    print(\"Wrote out dataframe with %i POIs to %s.csv [time=%.3fs]\" % \n",
    "          (len(merged_d), name_without_spaces, time.time()-ts))\n",
    "    total_written_out += 1\n",
    "print(\"Total written out: %i\" % total_written_out)"
   ]
  },
  {
   "cell_type": "markdown",
   "metadata": {},
   "source": [
    "## Test written out MSA files"
   ]
  },
  {
   "cell_type": "code",
   "execution_count": 6,
   "metadata": {},
   "outputs": [
    {
     "name": "stdout",
     "output_type": "stream",
     "text": [
      "Loaded 67306 rows for Washington_Arlington_Alexandria_DC_VA_MD_WV in 43.042 seconds\n",
      "Loaded 72940 rows for Washington_Arlington_Alexandria_DC_VA_MD_WV in 29.862 seconds\n",
      "Loaded 72148 rows for Washington_Arlington_Alexandria_DC_VA_MD_WV in 25.691 seconds\n",
      "Loaded 73234 rows for Washington_Arlington_Alexandria_DC_VA_MD_WV in 42.494 seconds\n",
      "Loaded 62347 rows for Washington_Arlington_Alexandria_DC_VA_MD_WV in 4.710 seconds\n"
     ]
    }
   ],
   "source": [
    "msa_name = 'Washington_Arlington_Alexandria_DC_VA_MD_WV'\n",
    "time_period_strings = ['20200302_20200608', '20200615_20200817', '20200824_20201019', '20201026_20210118', '20210125_20210201']\n",
    "dfs = []\n",
    "for ts in time_period_strings:\n",
    "    df = helper.load_dataframe_for_individual_msa(msa_name, version='v2', time_period=ts)\n",
    "    dfs.append(df)"
   ]
  },
  {
   "cell_type": "code",
   "execution_count": 7,
   "metadata": {},
   "outputs": [
    {
     "name": "stdout",
     "output_type": "stream",
     "text": [
      "2020/03/02, 00 - 2020/06/14, 23 (2520 hours) -> num non-nan POIs: avg=54706.80, std=2074.04; avg visits per POI: avg=0.20, std=0.17\n",
      "2020/06/15, 00 - 2020/08/23, 23 (1680 hours) -> num non-nan POIs: avg=58839.10, std=1437.45; avg visits per POI: avg=0.23, std=0.16\n",
      "2020/08/24, 00 - 2020/10/25, 23 (1512 hours) -> num non-nan POIs: avg=60773.22, std=619.51; avg visits per POI: avg=0.24, std=0.16\n",
      "2020/10/26, 00 - 2021/01/24, 23 (2184 hours) -> num non-nan POIs: avg=59149.00, std=1289.13; avg visits per POI: avg=0.21, std=0.16\n",
      "2021/01/25, 00 - 2021/02/07, 23 (336 hours) -> num non-nan POIs: avg=57081.50, std=115.50; avg visits per POI: avg=0.18, std=0.14\n"
     ]
    }
   ],
   "source": [
    "all_hours = []\n",
    "visits_per_hour = []\n",
    "for df in dfs:\n",
    "    hourly_visit_cols = [col for col in df.columns if col.startswith('hourly_visits')]\n",
    "    start_hour_string = hourly_visit_cols[0].split('_')[-1]\n",
    "    start_year, start_month, start_day, start_hour = start_hour_string.split('.')\n",
    "    start_hour = datetime.datetime(int(start_year), int(start_month), int(start_day), int(start_hour))\n",
    "    end_hour_string = hourly_visit_cols[-1].split('_')[-1]\n",
    "    end_year, end_month, end_day, end_hour = end_hour_string.split('.')\n",
    "    end_hour = datetime.datetime(int(end_year), int(end_month), int(end_day), int(end_hour))\n",
    "    if len(all_hours) > 0:\n",
    "        assert start_hour == (all_hours[-1] + datetime.timedelta(hours=1))\n",
    "    hours_in_range = helper.list_hours_in_range(start_hour, end_hour)\n",
    "    all_hours.extend(hours_in_range)\n",
    "    mat = df[hourly_visit_cols].values\n",
    "    num_nonnan_per_hour = np.sum(~np.isnan(mat), axis=0)\n",
    "    num_avg_visits_per_hour = np.nansum(mat, axis=0) / num_nonnan_per_hour\n",
    "    visits_per_hour.extend(num_avg_visits_per_hour)\n",
    "    \n",
    "    print('%s - %s (%d hours) -> num non-nan POIs: avg=%.2f, std=%.2f; avg visits per POI: avg=%.2f, std=%.2f' % \n",
    "      (start_hour.strftime('%Y/%m/%d, %H'), end_hour.strftime('%Y/%m/%d, %H'), len(hours_in_range),\n",
    "       np.mean(num_nonnan_per_hour), np.std(num_nonnan_per_hour), np.mean(num_avg_visits_per_hour), np.std(num_avg_visits_per_hour)))"
   ]
  },
  {
   "cell_type": "code",
   "execution_count": 8,
   "metadata": {},
   "outputs": [
    {
     "data": {
      "image/png": "[encoded data removed]",
      "text/plain": [
       "<Figure size 1080x360 with 1 Axes>"
      ]
     },
     "metadata": {
      "needs_background": "light"
     },
     "output_type": "display_data"
    }
   ],
   "source": [
    "from matplotlib import ticker as tick\n",
    "\n",
    "fig, ax = plt.subplots(figsize=(15, 5))\n",
    "x = all_hours\n",
    "y = apply_smoothing(visits_per_hour, before=24, after=24)\n",
    "ax.plot_date(x, y, linestyle='-', marker='.')\n",
    "ax.xaxis.set_major_locator(mdates.MonthLocator(interval=2))\n",
    "ax.xaxis.set_major_formatter(mdates.DateFormatter('%Y-%m-%d'))\n",
    "ax.set_xlabel('Date (every 3 Sundays)', fontsize=16)\n",
    "ax.set_ylabel('Average num visits per POI\\n(with 2-day smoothing)', fontsize=16)\n",
    "ax.set_title('%s' % MSAS_TO_PRETTY_NAMES[msa_name], fontsize=18)\n",
    "ax.tick_params(labelsize=14)\n",
    "ax.grid(alpha=0.2)\n",
    "plt.show()"
   ]
  },
  {
   "cell_type": "markdown",
   "metadata": {},
   "source": [
    "# Post-processing on MSA files: create time-aggregated"
   ]
  },
  {
   "cell_type": "markdown",
   "metadata": {},
   "source": [
    "In this section, we aggregate data over many weeks to provide time-aggregated estimates for certain POI attributes. \n",
    "- During network inference (see generate_ipf.py), we use time-aggregated estimates of each POI's visitors' home CBG distribution.\n",
    "- In our model (see model_experiments.py), we use time-aggregated estimates for each POI's dwell time.\n",
    "\n",
    "Since we use time-aggregated estimates, we do not update these values every time we download new SafeGraph data. As of February 2021, we are using the weeks from 2019/12/30 to 2020/10/19 as the basis for time-aggregated information."
   ]
  },
  {
   "cell_type": "code",
   "execution_count": null,
   "metadata": {
    "scrolled": true
   },
   "outputs": [],
   "source": [
    "pop_df = helper.load_dataframe_to_correct_for_population_size(version='v2', verbose=False)\n",
    "pop_df.head()"
   ]
  },
  {
   "cell_type": "code",
   "execution_count": 8,
   "metadata": {},
   "outputs": [],
   "source": [
    "# constant info: core, area, aggregated dwell time, aggregated home cbgs\n",
    "def make_time_aggregated_file_for_msa(msa_name, core_poi_df, pop_df, time_period_strings, dfs=None):\n",
    "    prefix = '%s_%s' % (time_period_strings[0].split('_')[0], time_period_strings[-1].split('_')[1])\n",
    "    print('Prefix:', prefix)\n",
    "    pois_in_msa = set()\n",
    "    if dfs is None:\n",
    "        dfs = []\n",
    "        for ts in time_period_strings:\n",
    "            df = helper.load_dataframe_for_individual_msa(msa_name, version='v2', time_period=ts)\n",
    "            pois_in_msa = pois_in_msa.union(df.index)\n",
    "            dfs.append(df)\n",
    "    else:\n",
    "        copied_dfs = []\n",
    "        for df in dfs:\n",
    "            copied_dfs.append(df.copy())  # don't want to modify by accident\n",
    "            pois_in_msa = pois_in_msa.union(df.index)\n",
    "        dfs = copied_dfs\n",
    "    \n",
    "    pois_in_msa = list(sorted(pois_in_msa))\n",
    "    base = core_poi_df.loc[pois_in_msa].copy()\n",
    "    parent_ids = set(core_poi_df.parent_safegraph_place_id)\n",
    "    is_parent = base.index.isin(parent_ids)\n",
    "    parents = base[is_parent]\n",
    "    nonparents = base[~is_parent]\n",
    "    print('In MSA: %d parent POIs; %d non-parent POIs' % (len(parents), len(nonparents)))\n",
    "    base = nonparents    \n",
    "    base['poi_cbg'] = np.nan\n",
    "    for df in dfs:\n",
    "        visitor_home_cbg_cols = sorted([col for col in df.columns if col.endswith('visitor_home_cbgs')])\n",
    "        median_dwell_cols = sorted([col for col in df.columns if col.endswith('median_dwell')])\n",
    "        cols_to_keep = ['single_poi_cbg'] + visitor_home_cbg_cols + median_dwell_cols\n",
    "        base = pd.merge(base, df[cols_to_keep], how='left', left_index=True, right_index=True, validate='one_to_one')\n",
    "        poi_cbg_is_nan = pd.isnull(base['poi_cbg'])  # update poi_cbg data that is still null\n",
    "        base['poi_cbg'][poi_cbg_is_nan] = base['single_poi_cbg'][poi_cbg_is_nan]  # each df has a single_poi_cbg column\n",
    "        base = base.drop(columns=['single_poi_cbg'])\n",
    "        \n",
    "    visitor_home_cbg_cols = [col for col in base.columns if col.endswith('visitor_home_cbgs')]\n",
    "    print('Found %d visitor home CBG columns' % len(visitor_home_cbg_cols))\n",
    "    is_null_mat = pd.isnull(base[visitor_home_cbg_cols])\n",
    "    base['num_weeks_with_visitor_home_cbgs'] = np.sum(~is_null_mat, axis=1)\n",
    "    periods_to_include = [c[:10] for c in visitor_home_cbg_cols]  # only keep date string\n",
    "    base = helper.aggregate_visitor_home_cbgs_over_months(base, population_df=pop_df, \n",
    "                                                cutoff_year=None, periods_to_include=periods_to_include)\n",
    "    base = base.rename(columns={k:'%s_%s' % (prefix, k) for k in ['aggregated_cbg_population_adjusted_visitor_home_cbgs', \n",
    "          'aggregated_visitor_home_cbgs']})\n",
    "\n",
    "    median_dwell_cols = [col for col in base.columns if col.endswith('median_dwell')]\n",
    "    print('Found %d median dwell columns' % len(median_dwell_cols))\n",
    "    is_null_mat = pd.isnull(base[median_dwell_cols])\n",
    "    base['num_weeks_with_median_dwell'] = np.sum(~is_null_mat, axis=1)\n",
    "    base['%s_median_of_median_dwell' % prefix] = np.nanmedian(base[median_dwell_cols].values, axis=1)\n",
    "    \n",
    "    cols_to_drop = [col for col in base.columns if '.' in col]  # time-varying are <date>.<col_name>\n",
    "    base = base.drop(columns=cols_to_drop)\n",
    "    for k in ['%s_aggregated_cbg_population_adjusted_visitor_home_cbgs' % prefix, \n",
    "              '%s_aggregated_visitor_home_cbgs' % prefix]:\n",
    "        base[k] = base[k].map(lambda x:json.dumps(dict(x))) # cast to json so properly saved in CSV. \n",
    "    path_to_csv = os.path.join(NEW_STRATIFIED_BY_AREA_DIR, 'time_aggregated/%s_%s.csv' % (prefix, msa_name))\n",
    "    print('Saving at', path_to_csv)\n",
    "    base.to_csv(path_to_csv)\n",
    "    return base"
   ]
  },
  {
   "cell_type": "code",
   "execution_count": 16,
   "metadata": {},
   "outputs": [
    {
     "name": "stdout",
     "output_type": "stream",
     "text": [
      "Found 11 MSAs that overlap with VA\n",
      "['Staunton_Waynesboro_VA', 'Winchester_VA_WV', 'Richmond_VA', 'Blacksburg_Christiansburg_Radford_VA', 'Washington_Arlington_Alexandria_DC_VA_MD_WV', 'Charlottesville_VA', 'Roanoke_VA', 'Lynchburg_VA', 'Kingsport_Bristol_Bristol_TN_VA', 'Harrisonburg_VA', 'Virginia_Beach_Norfolk_Newport_News_VA_NC']\n"
     ]
    }
   ],
   "source": [
    "stratified_by_msa_dir = os.path.join(NEW_STRATIFIED_BY_AREA_DIR, '20200824_20201019')\n",
    "fns = os.listdir(stratified_by_msa_dir)\n",
    "va_msas = []\n",
    "for fn in fns:\n",
    "    msa = fn.split('.')[0]  # drop .csv\n",
    "    states = msa.split('_')[1:]\n",
    "    if 'VA' in states:\n",
    "        va_msas.append(msa)\n",
    "print('Found %d MSAs that overlap with VA' % len(va_msas))\n",
    "print(va_msas)"
   ]
  },
  {
   "cell_type": "code",
   "execution_count": null,
   "metadata": {
    "scrolled": true
   },
   "outputs": [],
   "source": [
    "time_period_strings = ['20191230_20200224', '20200302_20200608', '20200615_20200817', '20200824_20201019']\n",
    "for msa_name in va_msas:\n",
    "    make_time_aggregated_file_for_msa(msa_name, core_poi_df, pop_df, time_period_strings, dfs=None)"
   ]
  }
 ],
 "metadata": {
  "kernelspec": {
   "display_name": "safegraph",
   "language": "python",
   "name": "safegraph"
  },
  "language_info": {
   "codemirror_mode": {
    "name": "ipython",
    "version": 3
   },
   "file_extension": ".py",
   "mimetype": "text/x-python",
   "name": "python",
   "nbconvert_exporter": "python",
   "pygments_lexer": "ipython3",
   "version": "3.7.2"
  }
 },
 "nbformat": 4,
 "nbformat_minor": 2
}
