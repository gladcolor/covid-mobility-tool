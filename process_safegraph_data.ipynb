{
 "cells": [
  {
   "cell_type": "code",
   "execution_count": 2,
   "metadata": {},
   "outputs": [
    {
     "name": "stdout",
     "output_type": "stream",
     "text": [
      "Setting numpy cores to 1\n",
      "Running code on Deep; at Stanford=False\n"
     ]
    },
    {
     "ename": "KeyboardInterrupt",
     "evalue": "",
     "output_type": "error",
     "traceback": [
      "\u001B[0;31m---------------------------------------------------------------------------\u001B[0m",
      "\u001B[0;31mKeyboardInterrupt\u001B[0m                         Traceback (most recent call last)",
      "\u001B[0;32m<ipython-input-2-7585cbd7343a>\u001B[0m in \u001B[0;36m<module>\u001B[0;34m\u001B[0m\n\u001B[1;32m      2\u001B[0m \u001B[0mget_ipython\u001B[0m\u001B[0;34m(\u001B[0m\u001B[0;34m)\u001B[0m\u001B[0;34m.\u001B[0m\u001B[0mrun_line_magic\u001B[0m\u001B[0;34m(\u001B[0m\u001B[0;34m'load_ext'\u001B[0m\u001B[0;34m,\u001B[0m \u001B[0;34m'autoreload'\u001B[0m\u001B[0;34m)\u001B[0m\u001B[0;34m\u001B[0m\u001B[0;34m\u001B[0m\u001B[0m\n\u001B[1;32m      3\u001B[0m \u001B[0mget_ipython\u001B[0m\u001B[0;34m(\u001B[0m\u001B[0;34m)\u001B[0m\u001B[0;34m.\u001B[0m\u001B[0mrun_line_magic\u001B[0m\u001B[0;34m(\u001B[0m\u001B[0;34m'autoreload'\u001B[0m\u001B[0;34m,\u001B[0m \u001B[0;34m'2'\u001B[0m\u001B[0;34m)\u001B[0m\u001B[0;34m\u001B[0m\u001B[0;34m\u001B[0m\u001B[0m\n\u001B[0;32m----> 4\u001B[0;31m \u001B[0;32mfrom\u001B[0m \u001B[0mcovid_constants_and_util\u001B[0m \u001B[0;32mimport\u001B[0m \u001B[0;34m*\u001B[0m\u001B[0;34m\u001B[0m\u001B[0;34m\u001B[0m\u001B[0m\n\u001B[0m\u001B[1;32m      5\u001B[0m \u001B[0;32mimport\u001B[0m \u001B[0mhelper_methods_for_aggregate_data_analysis\u001B[0m \u001B[0;32mas\u001B[0m \u001B[0mhelper\u001B[0m\u001B[0;34m\u001B[0m\u001B[0;34m\u001B[0m\u001B[0m\n\u001B[1;32m      6\u001B[0m \u001B[0;32mimport\u001B[0m \u001B[0mpandas\u001B[0m \u001B[0;32mas\u001B[0m \u001B[0mpd\u001B[0m\u001B[0;34m\u001B[0m\u001B[0;34m\u001B[0m\u001B[0m\n",
      "\u001B[0;32m/media/gpu/easystore/covid-mobility-tool/covid_constants_and_util.py\u001B[0m in \u001B[0;36m<module>\u001B[0;34m\u001B[0m\n\u001B[1;32m     33\u001B[0m \u001B[0;32mimport\u001B[0m \u001B[0mrandom\u001B[0m\u001B[0;34m\u001B[0m\u001B[0;34m\u001B[0m\u001B[0m\n\u001B[1;32m     34\u001B[0m \u001B[0;32mfrom\u001B[0m \u001B[0mdask\u001B[0m\u001B[0;34m.\u001B[0m\u001B[0mdiagnostics\u001B[0m \u001B[0;32mimport\u001B[0m \u001B[0mProgressBar\u001B[0m\u001B[0;34m\u001B[0m\u001B[0;34m\u001B[0m\u001B[0m\n\u001B[0;32m---> 35\u001B[0;31m \u001B[0;32mimport\u001B[0m \u001B[0mdask\u001B[0m\u001B[0;34m.\u001B[0m\u001B[0mdataframe\u001B[0m \u001B[0;32mas\u001B[0m \u001B[0mdd\u001B[0m\u001B[0;34m\u001B[0m\u001B[0;34m\u001B[0m\u001B[0m\n\u001B[0m\u001B[1;32m     36\u001B[0m \u001B[0;34m\u001B[0m\u001B[0m\n\u001B[1;32m     37\u001B[0m \u001B[0;31m#######################################################################\u001B[0m\u001B[0;34m\u001B[0m\u001B[0;34m\u001B[0m\u001B[0;34m\u001B[0m\u001B[0m\n",
      "\u001B[0;32m/media/gpu/easystore/covid-mobility-tool/covid_mobility_env/lib/python3.7/site-packages/dask/dataframe/__init__.py\u001B[0m in \u001B[0;36m<module>\u001B[0;34m\u001B[0m\n\u001B[1;32m      2\u001B[0m \u001B[0;34m\u001B[0m\u001B[0m\n\u001B[1;32m      3\u001B[0m \u001B[0;32mtry\u001B[0m\u001B[0;34m:\u001B[0m\u001B[0;34m\u001B[0m\u001B[0;34m\u001B[0m\u001B[0m\n\u001B[0;32m----> 4\u001B[0;31m     from .core import (\n\u001B[0m\u001B[1;32m      5\u001B[0m         \u001B[0mDataFrame\u001B[0m\u001B[0;34m,\u001B[0m\u001B[0;34m\u001B[0m\u001B[0;34m\u001B[0m\u001B[0m\n\u001B[1;32m      6\u001B[0m         \u001B[0mSeries\u001B[0m\u001B[0;34m,\u001B[0m\u001B[0;34m\u001B[0m\u001B[0;34m\u001B[0m\u001B[0m\n",
      "\u001B[0;32m/media/gpu/easystore/covid-mobility-tool/covid_mobility_env/lib/python3.7/site-packages/dask/dataframe/core.py\u001B[0m in \u001B[0;36m<module>\u001B[0;34m\u001B[0m\n\u001B[1;32m     25\u001B[0m     \u001B[0mCache\u001B[0m \u001B[0;34m=\u001B[0m \u001B[0mdict\u001B[0m\u001B[0;34m\u001B[0m\u001B[0;34m\u001B[0m\u001B[0m\n\u001B[1;32m     26\u001B[0m \u001B[0;34m\u001B[0m\u001B[0m\n\u001B[0;32m---> 27\u001B[0;31m \u001B[0;32mfrom\u001B[0m \u001B[0;34m.\u001B[0m\u001B[0;34m.\u001B[0m \u001B[0;32mimport\u001B[0m \u001B[0marray\u001B[0m \u001B[0;32mas\u001B[0m \u001B[0mda\u001B[0m\u001B[0;34m\u001B[0m\u001B[0;34m\u001B[0m\u001B[0m\n\u001B[0m\u001B[1;32m     28\u001B[0m \u001B[0;32mfrom\u001B[0m \u001B[0;34m.\u001B[0m\u001B[0;34m.\u001B[0m \u001B[0;32mimport\u001B[0m \u001B[0mcore\u001B[0m\u001B[0;34m\u001B[0m\u001B[0;34m\u001B[0m\u001B[0m\n\u001B[1;32m     29\u001B[0m \u001B[0;34m\u001B[0m\u001B[0m\n",
      "\u001B[0;32m/media/gpu/easystore/covid-mobility-tool/covid_mobility_env/lib/python3.7/site-packages/dask/array/__init__.py\u001B[0m in \u001B[0;36m<module>\u001B[0;34m\u001B[0m\n\u001B[1;32m    212\u001B[0m     \u001B[0;32mfrom\u001B[0m \u001B[0;34m.\u001B[0m\u001B[0mpercentile\u001B[0m \u001B[0;32mimport\u001B[0m \u001B[0mpercentile\u001B[0m\u001B[0;34m\u001B[0m\u001B[0;34m\u001B[0m\u001B[0m\n\u001B[1;32m    213\u001B[0m     \u001B[0;32mfrom\u001B[0m \u001B[0;34m.\u001B[0m \u001B[0;32mimport\u001B[0m \u001B[0mma\u001B[0m\u001B[0;34m\u001B[0m\u001B[0;34m\u001B[0m\u001B[0m\n\u001B[0;32m--> 214\u001B[0;31m     \u001B[0;32mfrom\u001B[0m \u001B[0;34m.\u001B[0m \u001B[0;32mimport\u001B[0m \u001B[0mrandom\u001B[0m\u001B[0;34m,\u001B[0m \u001B[0mlinalg\u001B[0m\u001B[0;34m,\u001B[0m \u001B[0moverlap\u001B[0m\u001B[0;34m,\u001B[0m \u001B[0mfft\u001B[0m\u001B[0;34m,\u001B[0m \u001B[0mbackends\u001B[0m\u001B[0;34m\u001B[0m\u001B[0;34m\u001B[0m\u001B[0m\n\u001B[0m\u001B[1;32m    215\u001B[0m     \u001B[0;32mfrom\u001B[0m \u001B[0;34m.\u001B[0m\u001B[0moverlap\u001B[0m \u001B[0;32mimport\u001B[0m \u001B[0mmap_overlap\u001B[0m\u001B[0;34m\u001B[0m\u001B[0;34m\u001B[0m\u001B[0m\n\u001B[1;32m    216\u001B[0m     \u001B[0;32mfrom\u001B[0m \u001B[0;34m.\u001B[0m\u001B[0mwrap\u001B[0m \u001B[0;32mimport\u001B[0m \u001B[0mones\u001B[0m\u001B[0;34m,\u001B[0m \u001B[0mzeros\u001B[0m\u001B[0;34m,\u001B[0m \u001B[0mempty\u001B[0m\u001B[0;34m,\u001B[0m \u001B[0mfull\u001B[0m\u001B[0;34m\u001B[0m\u001B[0;34m\u001B[0m\u001B[0m\n",
      "\u001B[0;32m/media/gpu/easystore/covid-mobility-tool/covid_mobility_env/lib/python3.7/site-packages/dask/array/fft.py\u001B[0m in \u001B[0;36m<module>\u001B[0;34m\u001B[0m\n\u001B[1;32m      8\u001B[0m \u001B[0;32mtry\u001B[0m\u001B[0;34m:\u001B[0m\u001B[0;34m\u001B[0m\u001B[0;34m\u001B[0m\u001B[0m\n\u001B[1;32m      9\u001B[0m     \u001B[0;32mimport\u001B[0m \u001B[0mscipy\u001B[0m\u001B[0;34m\u001B[0m\u001B[0;34m\u001B[0m\u001B[0m\n\u001B[0;32m---> 10\u001B[0;31m     \u001B[0;32mimport\u001B[0m \u001B[0mscipy\u001B[0m\u001B[0;34m.\u001B[0m\u001B[0mfftpack\u001B[0m\u001B[0;34m\u001B[0m\u001B[0;34m\u001B[0m\u001B[0m\n\u001B[0m\u001B[1;32m     11\u001B[0m \u001B[0;32mexcept\u001B[0m \u001B[0mImportError\u001B[0m\u001B[0;34m:\u001B[0m\u001B[0;34m\u001B[0m\u001B[0;34m\u001B[0m\u001B[0m\n\u001B[1;32m     12\u001B[0m     \u001B[0mscipy\u001B[0m \u001B[0;34m=\u001B[0m \u001B[0;32mNone\u001B[0m\u001B[0;34m\u001B[0m\u001B[0;34m\u001B[0m\u001B[0m\n",
      "\u001B[0;32m/media/gpu/easystore/covid-mobility-tool/covid_mobility_env/lib/python3.7/site-packages/scipy/fftpack/__init__.py\u001B[0m in \u001B[0;36m<module>\u001B[0;34m\u001B[0m\n\u001B[1;32m     92\u001B[0m            ]\n\u001B[1;32m     93\u001B[0m \u001B[0;34m\u001B[0m\u001B[0m\n\u001B[0;32m---> 94\u001B[0;31m \u001B[0;32mfrom\u001B[0m \u001B[0;34m.\u001B[0m\u001B[0mbasic\u001B[0m \u001B[0;32mimport\u001B[0m \u001B[0;34m*\u001B[0m\u001B[0;34m\u001B[0m\u001B[0;34m\u001B[0m\u001B[0m\n\u001B[0m\u001B[1;32m     95\u001B[0m \u001B[0;32mfrom\u001B[0m \u001B[0;34m.\u001B[0m\u001B[0mpseudo_diffs\u001B[0m \u001B[0;32mimport\u001B[0m \u001B[0;34m*\u001B[0m\u001B[0;34m\u001B[0m\u001B[0;34m\u001B[0m\u001B[0m\n\u001B[1;32m     96\u001B[0m \u001B[0;32mfrom\u001B[0m \u001B[0;34m.\u001B[0m\u001B[0mhelper\u001B[0m \u001B[0;32mimport\u001B[0m \u001B[0;34m*\u001B[0m\u001B[0;34m\u001B[0m\u001B[0;34m\u001B[0m\u001B[0m\n",
      "\u001B[0;32m/media/gpu/easystore/covid-mobility-tool/covid_mobility_env/lib/python3.7/site-packages/scipy/fftpack/basic.py\u001B[0m in \u001B[0;36m<module>\u001B[0;34m\u001B[0m\n\u001B[1;32m      6\u001B[0m            'fft2','ifft2']\n\u001B[1;32m      7\u001B[0m \u001B[0;34m\u001B[0m\u001B[0m\n\u001B[0;32m----> 8\u001B[0;31m \u001B[0;32mfrom\u001B[0m \u001B[0mscipy\u001B[0m\u001B[0;34m.\u001B[0m\u001B[0mfft\u001B[0m \u001B[0;32mimport\u001B[0m \u001B[0m_pocketfft\u001B[0m\u001B[0;34m\u001B[0m\u001B[0;34m\u001B[0m\u001B[0m\n\u001B[0m\u001B[1;32m      9\u001B[0m \u001B[0;32mfrom\u001B[0m \u001B[0;34m.\u001B[0m\u001B[0mhelper\u001B[0m \u001B[0;32mimport\u001B[0m \u001B[0m_good_shape\u001B[0m\u001B[0;34m\u001B[0m\u001B[0;34m\u001B[0m\u001B[0m\n\u001B[1;32m     10\u001B[0m \u001B[0;34m\u001B[0m\u001B[0m\n",
      "\u001B[0;32m/media/gpu/easystore/covid-mobility-tool/covid_mobility_env/lib/python3.7/site-packages/scipy/fft/__init__.py\u001B[0m in \u001B[0;36m<module>\u001B[0;34m\u001B[0m\n\u001B[1;32m     77\u001B[0m     hfft, ihfft, hfft2, ihfft2, hfftn, ihfftn)\n\u001B[1;32m     78\u001B[0m \u001B[0;32mfrom\u001B[0m \u001B[0;34m.\u001B[0m\u001B[0m_realtransforms\u001B[0m \u001B[0;32mimport\u001B[0m \u001B[0mdct\u001B[0m\u001B[0;34m,\u001B[0m \u001B[0midct\u001B[0m\u001B[0;34m,\u001B[0m \u001B[0mdst\u001B[0m\u001B[0;34m,\u001B[0m \u001B[0midst\u001B[0m\u001B[0;34m,\u001B[0m \u001B[0mdctn\u001B[0m\u001B[0;34m,\u001B[0m \u001B[0midctn\u001B[0m\u001B[0;34m,\u001B[0m \u001B[0mdstn\u001B[0m\u001B[0;34m,\u001B[0m \u001B[0midstn\u001B[0m\u001B[0;34m\u001B[0m\u001B[0;34m\u001B[0m\u001B[0m\n\u001B[0;32m---> 79\u001B[0;31m \u001B[0;32mfrom\u001B[0m \u001B[0;34m.\u001B[0m\u001B[0m_helper\u001B[0m \u001B[0;32mimport\u001B[0m \u001B[0mnext_fast_len\u001B[0m\u001B[0;34m\u001B[0m\u001B[0;34m\u001B[0m\u001B[0m\n\u001B[0m\u001B[1;32m     80\u001B[0m from ._backend import (set_backend, skip_backend, set_global_backend,\n\u001B[1;32m     81\u001B[0m                        register_backend)\n",
      "\u001B[0;32m/media/gpu/easystore/covid-mobility-tool/covid_mobility_env/lib/python3.7/site-packages/scipy/fft/_helper.py\u001B[0m in \u001B[0;36m<module>\u001B[0;34m\u001B[0m\n\u001B[1;32m      1\u001B[0m \u001B[0;32mfrom\u001B[0m \u001B[0mfunctools\u001B[0m \u001B[0;32mimport\u001B[0m \u001B[0mupdate_wrapper\u001B[0m\u001B[0;34m,\u001B[0m \u001B[0mlru_cache\u001B[0m\u001B[0;34m\u001B[0m\u001B[0;34m\u001B[0m\u001B[0m\n\u001B[1;32m      2\u001B[0m \u001B[0;34m\u001B[0m\u001B[0m\n\u001B[0;32m----> 3\u001B[0;31m \u001B[0;32mfrom\u001B[0m \u001B[0;34m.\u001B[0m\u001B[0m_pocketfft\u001B[0m \u001B[0;32mimport\u001B[0m \u001B[0mhelper\u001B[0m \u001B[0;32mas\u001B[0m \u001B[0m_helper\u001B[0m\u001B[0;34m\u001B[0m\u001B[0;34m\u001B[0m\u001B[0m\n\u001B[0m\u001B[1;32m      4\u001B[0m \u001B[0;34m\u001B[0m\u001B[0m\n\u001B[1;32m      5\u001B[0m \u001B[0;34m\u001B[0m\u001B[0m\n",
      "\u001B[0;32m/media/gpu/easystore/covid-mobility-tool/covid_mobility_env/lib/python3.7/importlib/_bootstrap.py\u001B[0m in \u001B[0;36m_find_and_load\u001B[0;34m(name, import_)\u001B[0m\n",
      "\u001B[0;32m/media/gpu/easystore/covid-mobility-tool/covid_mobility_env/lib/python3.7/importlib/_bootstrap.py\u001B[0m in \u001B[0;36m_find_and_load_unlocked\u001B[0;34m(name, import_)\u001B[0m\n",
      "\u001B[0;32m/media/gpu/easystore/covid-mobility-tool/covid_mobility_env/lib/python3.7/importlib/_bootstrap.py\u001B[0m in \u001B[0;36m_load_unlocked\u001B[0;34m(spec)\u001B[0m\n",
      "\u001B[0;32m/media/gpu/easystore/covid-mobility-tool/covid_mobility_env/lib/python3.7/importlib/_bootstrap_external.py\u001B[0m in \u001B[0;36mexec_module\u001B[0;34m(self, module)\u001B[0m\n",
      "\u001B[0;32m/media/gpu/easystore/covid-mobility-tool/covid_mobility_env/lib/python3.7/importlib/_bootstrap_external.py\u001B[0m in \u001B[0;36mget_code\u001B[0;34m(self, fullname)\u001B[0m\n",
      "\u001B[0;32m/media/gpu/easystore/covid-mobility-tool/covid_mobility_env/lib/python3.7/importlib/_bootstrap_external.py\u001B[0m in \u001B[0;36mpath_stats\u001B[0;34m(self, path)\u001B[0m\n",
      "\u001B[0;31mKeyboardInterrupt\u001B[0m: "
     ]
    }
   ],
   "source": [
    "%load_ext autoreload\n",
    "%autoreload 2\n",
    "from covid_constants_and_util import *\n",
    "import helper_methods_for_aggregate_data_analysis as helper\n",
    "import pandas as pd\n",
    "import geopandas as gpd\n",
    "import os\n",
    "import matplotlib.pyplot as plt\n",
    "import json\n",
    "import datetime\n",
    "import scipy\n",
    "import time\n",
    "\n",
    "JUST_TESTING = False"
   ]
  },
  {
   "cell_type": "code",
   "execution_count": null,
   "metadata": {},
   "outputs": [],
   "source": [
    "COLS_FROM_CORE_PLACES = ['safegraph_place_id', 'parent_safegraph_place_id', 'location_name', 'safegraph_brand_ids', \n",
    "                         'brands', 'top_category', 'sub_category', 'naics_code', 'latitude', 'longitude', 'street_address',\n",
    "                         'city', 'region', 'postal_code', 'open_hours']\n",
    "COLS_FROM_CORE_PLACES_FOOTPRINT = ['safegraph_place_id', 'polygon_class', 'area_square_feet']\n",
    "COLS_FROM_WEEKLY_PATTERNS = ['safegraph_place_id', 'poi_cbg', 'visitor_home_cbgs', 'visitor_daytime_cbgs', \n",
    "                             'visitor_country_of_origin', 'distance_from_home', 'median_dwell', 'bucketed_dwell_times']"
   ]
  },
  {
   "cell_type": "code",
   "execution_count": null,
   "metadata": {
    "scrolled": true
   },
   "outputs": [],
   "source": [
    "core_poi_df = helper.load_core_places_data(COLS_FROM_CORE_PLACES)"
   ]
  },
  {
   "cell_type": "code",
   "execution_count": null,
   "metadata": {},
   "outputs": [],
   "source": [
    "footprint_df = helper.load_core_places_footprint_data(COLS_FROM_CORE_PLACES_FOOTPRINT)\n",
    "ids_in_footprint_but_not_core = set(footprint_df.index) - set(core_poi_df.index)\n",
    "print(\"Warning: %i/%i (%.1f%%) POIs in footprint but not core data; dropping these\" % \n",
    "      (len(ids_in_footprint_but_not_core), len(footprint_df), 100. * len(ids_in_footprint_but_not_core) / len(footprint_df)))\n",
    "core_poi_df = pd.merge(core_poi_df, footprint_df, how='left', left_index=True, right_index=True, validate='one_to_one')\n",
    "print(\"Missing data for footprint columns\")\n",
    "print(pd.isnull(core_poi_df[footprint_df.columns]).mean())"
   ]
  },
  {
   "cell_type": "markdown",
   "metadata": {},
   "source": [
    "# Combine Core/Footprint/Weekly data and write out to MSA files"
   ]
  },
  {
   "cell_type": "markdown",
   "metadata": {},
   "source": [
    "In this section, we process the raw SafeGraph Weekly Patterns data and divide the processing output into separate csv files per metropolitan statistical area (MSA). In processing the data, we:\n",
    "- Expand the visits_by_each_hour column into one column per hour.\n",
    "- Correct the visit spikes at the GMT midnight boundary (this is a known error with hourly SafeGraph data).\n",
    "- Drop parent POIs so we don't double-count visits.\n",
    "- Add an MSA column based on the POI's census block group (if that information is provided)."
   ]
  },
  {
   "cell_type": "code",
   "execution_count": null,
   "metadata": {},
   "outputs": [],
   "source": [
    "# first and last week of the latest Weekly data to process\n",
    "start_date = datetime.datetime(2021, 2, 3)   # Should be the data release date\n",
    "end_date = datetime.datetime(2021, 2, 9)\n",
    "print('Time period: %s to %s (%s)' % (start_date.strftime('%Y-%m-%d'), end_date.strftime('%Y-%m-%d'), end_date - start_date))"
   ]
  },
  {
   "cell_type": "code",
   "execution_count": null,
   "metadata": {
    "scrolled": true
   },
   "outputs": [],
   "source": [
    "base = core_poi_df.copy()\n",
    "while start_date <= end_date:\n",
    "    week_string = start_date.strftime('%Y-%m-%d')\n",
    "    print('===== WEEK STRING: %s =====' % week_string)\n",
    "    weekly_df = helper.load_weekly_patterns_v2_data(week_string, COLS_FROM_WEEKLY_PATTERNS, expand_hourly_visits=True)\n",
    "    weekly_df = weekly_df.rename(columns={k:f'{week_string}.{k}' for k in weekly_df.columns if not(k.startswith('hourly_visits_'))})\n",
    "    ids_in_weekly_but_not_core = set(weekly_df.index) - set(base.index)\n",
    "    print(\"Warning: %i/%i (%.1f%%) POIs in weekly but not core data; dropping these\" % \n",
    "          (len(ids_in_weekly_but_not_core), len(weekly_df), 100. * len(ids_in_weekly_but_not_core) / len(weekly_df)))\n",
    "    # left merge means we are only keeping the POIs that we have core info for\n",
    "    base = pd.merge(base, weekly_df, how='left', left_index=True, right_index=True, validate='one_to_one')\n",
    "    print(\"Missing data for weekly columns\")\n",
    "    print(pd.isnull(base[weekly_df.columns]).mean())\n",
    "    start_date = start_date + datetime.timedelta(days=7)"
   ]
  },
  {
   "cell_type": "code",
   "execution_count": null,
   "metadata": {},
   "outputs": [],
   "source": [
    "def get_single_poi_cbg_col(base):\n",
    "    poi_cbg_cols = sorted([col for col in base.columns if col.endswith('poi_cbg')])  # put into temporal order\n",
    "    current_data = base[poi_cbg_cols[0]].copy()\n",
    "    print('Processed col %s -> num POIs currently missing CBG: %d' % (poi_cbg_cols[0], np.sum(pd.isnull(current_data))))\n",
    "    for col_name in poi_cbg_cols[1:]:\n",
    "        new_data = base[col_name]\n",
    "        non_null = ~pd.isnull(new_data)\n",
    "        current_data.loc[non_null] = new_data.loc[non_null]\n",
    "        print('Processed col %s -> num POIs currently missing CBG: %d' % (col_name, np.sum(pd.isnull(current_data))))\n",
    "    return current_data\n",
    "\n",
    "base['single_poi_cbg'] = get_single_poi_cbg_col(base)"
   ]
  },
  {
   "cell_type": "code",
   "execution_count": null,
   "outputs": [],
   "source": [
    "base"
   ],
   "metadata": {
    "collapsed": false,
    "pycharm": {
     "name": "#%%\n"
    }
   }
  },
  {
   "cell_type": "code",
   "execution_count": null,
   "outputs": [],
   "source": [
    "pd.set_option('display.max_columns', None)\n",
    "base.head(5)\n"
   ],
   "metadata": {
    "collapsed": false,
    "pycharm": {
     "name": "#%%\n"
    }
   }
  },
  {
   "cell_type": "code",
   "execution_count": null,
   "outputs": [],
   "source": [
    "# extract population from ACS geodatabase\n",
    "# acs5_gdf = gpd.read_file(PATH_TO_ACS_5YR_DATA_GEODATABASE, layer=r'')"
   ],
   "metadata": {
    "collapsed": false,
    "pycharm": {
     "name": "#%%\n"
    }
   }
  },
  {
   "cell_type": "code",
   "execution_count": null,
   "metadata": {},
   "outputs": [],
   "source": [
    "def map_poi_cbg_to_msa_info(x, msa_info):\n",
    "    if pd.isnull(x):\n",
    "        return 'Missing POI CBG'\n",
    "    x_as_int = int(x)\n",
    "    if x_as_int in msa_info:\n",
    "        return msa_info[x_as_int]\n",
    "    return 'Missing ACS data'\n",
    "\n",
    "acs_d = helper.load_and_reconcile_multiple_acs_data()\n",
    "cbg2metro_micro = dict(zip(acs_d.census_block_group, acs_d['Metropolitan/Micropolitan Statistical Area']))\n",
    "cbg2cbsa = dict(zip(acs_d.census_block_group, acs_d['CBSA Title']))\n",
    "base['poi_metro_micro'] = base['single_poi_cbg'].map(lambda x:map_poi_cbg_to_msa_info(x, cbg2metro_micro))\n",
    "base['poi_cbsa'] = base['single_poi_cbg'].map(lambda x:map_poi_cbg_to_msa_info(x, cbg2cbsa))\n",
    "base['poi_cbsa'].value_counts()"
   ]
  },
  {
   "cell_type": "code",
   "execution_count": null,
   "metadata": {},
   "outputs": [],
   "source": [
    "just_in_msas = base[base.poi_metro_micro == 'Metropolitan Statistical Area']\n",
    "print(\"%i/%i POIs are in MSAs (%i MSAs total)\" % (len(just_in_msas), \n",
    "                                                  len(base), \n",
    "                                                  len(just_in_msas['poi_cbsa'].unique())))"
   ]
  },
  {
   "cell_type": "code",
   "execution_count": null,
   "metadata": {},
   "outputs": [],
   "source": [
    "OUT_DIR = os.path.join(NEW_STRATIFIED_BY_AREA_DIR, '20210125_20210201')\n",
    "assert os.path.isdir(OUT_DIR)\n",
    "print(OUT_DIR)"
   ]
  },
  {
   "cell_type": "markdown",
   "metadata": {},
   "source": [
    "### Write to file: if we're starting a new chunk in stratified_by_metro_area"
   ]
  },
  {
   "cell_type": "code",
   "execution_count": null,
   "metadata": {
    "scrolled": true
   },
   "outputs": [],
   "source": [
    "grouped_by_msa = just_in_msas.groupby('poi_cbsa')\n",
    "total_written_out = 0\n",
    "for msa_name, small_d in grouped_by_msa:\n",
    "    small_d = small_d.copy().sample(frac=1) # make sure rows in random order. \n",
    "    name_without_spaces = re.sub('[^0-9a-zA-Z]+', '_', msa_name)\n",
    "    filename = os.path.join(OUT_DIR, '%s.csv' % name_without_spaces)\n",
    "    small_d.to_csv(filename)\n",
    "    print(\"Wrote out dataframe with %i POIs to %s.csv\" % (len(small_d), name_without_spaces))\n",
    "    total_written_out += 1\n",
    "print(\"Total written out: %i\" % total_written_out)"
   ]
  },
  {
   "cell_type": "markdown",
   "metadata": {},
   "source": [
    "### Write to file: if we're concatenating with existing chunk in stratified_by_metro_area"
   ]
  },
  {
   "cell_type": "code",
   "execution_count": null,
   "metadata": {
    "scrolled": true
   },
   "outputs": [],
   "source": [
    "grouped_by_msa = just_in_msas.groupby('poi_cbsa')\n",
    "total_written_out = 0\n",
    "prev_out_dir = os.path.join(NEW_STRATIFIED_BY_AREA_DIR, '20201026_20201228')\n",
    "assert prev_out_dir != OUT_DIR\n",
    "for msa_name, small_d in grouped_by_msa:\n",
    "    ts = time.time()\n",
    "    name_without_spaces = re.sub('[^0-9a-zA-Z]+', '_', msa_name)\n",
    "    filename = os.path.join(OUT_DIR, '%s.csv' % name_without_spaces)\n",
    "    prev_filename = os.path.join(prev_out_dir, '%s.csv' % name_without_spaces)\n",
    "    prev_d = pd.read_csv(prev_filename)\n",
    "    prev_d = prev_d.set_index('safegraph_place_id')\n",
    "    new_cols = [col for col in small_d.columns if col not in prev_d]\n",
    "    merged_d = prev_d.merge(small_d[new_cols], how='outer', left_index=True, right_index=True)\n",
    "    merged_d.to_csv(filename)\n",
    "    print(\"Wrote out dataframe with %i POIs to %s.csv [time=%.3fs]\" % \n",
    "          (len(merged_d), name_without_spaces, time.time()-ts))\n",
    "    total_written_out += 1\n",
    "print(\"Total written out: %i\" % total_written_out)"
   ]
  },
  {
   "cell_type": "markdown",
   "metadata": {},
   "source": [
    "## Test written out MSA files"
   ]
  },
  {
   "cell_type": "code",
   "execution_count": null,
   "metadata": {},
   "outputs": [],
   "source": [
    "msa_name = 'Washington_Arlington_Alexandria_DC_VA_MD_WV'\n",
    "time_period_strings = ['20200302_20200608', '20200615_20200817', '20200824_20201019', '20201026_20210118', '20210125_20210201']\n",
    "dfs = []\n",
    "for ts in time_period_strings:\n",
    "    df = helper.load_dataframe_for_individual_msa(msa_name, version='v2', time_period=ts)\n",
    "    dfs.append(df)"
   ]
  },
  {
   "cell_type": "code",
   "execution_count": null,
   "metadata": {},
   "outputs": [],
   "source": [
    "all_hours = []\n",
    "visits_per_hour = []\n",
    "for df in dfs:\n",
    "    hourly_visit_cols = [col for col in df.columns if col.startswith('hourly_visits')]\n",
    "    start_hour_string = hourly_visit_cols[0].split('_')[-1]\n",
    "    start_year, start_month, start_day, start_hour = start_hour_string.split('.')\n",
    "    start_hour = datetime.datetime(int(start_year), int(start_month), int(start_day), int(start_hour))\n",
    "    end_hour_string = hourly_visit_cols[-1].split('_')[-1]\n",
    "    end_year, end_month, end_day, end_hour = end_hour_string.split('.')\n",
    "    end_hour = datetime.datetime(int(end_year), int(end_month), int(end_day), int(end_hour))\n",
    "    if len(all_hours) > 0:\n",
    "        assert start_hour == (all_hours[-1] + datetime.timedelta(hours=1))\n",
    "    hours_in_range = helper.list_hours_in_range(start_hour, end_hour)\n",
    "    all_hours.extend(hours_in_range)\n",
    "    mat = df[hourly_visit_cols].values\n",
    "    num_nonnan_per_hour = np.sum(~np.isnan(mat), axis=0)\n",
    "    num_avg_visits_per_hour = np.nansum(mat, axis=0) / num_nonnan_per_hour\n",
    "    visits_per_hour.extend(num_avg_visits_per_hour)\n",
    "    \n",
    "    print('%s - %s (%d hours) -> num non-nan POIs: avg=%.2f, std=%.2f; avg visits per POI: avg=%.2f, std=%.2f' % \n",
    "      (start_hour.strftime('%Y/%m/%d, %H'), end_hour.strftime('%Y/%m/%d, %H'), len(hours_in_range),\n",
    "       np.mean(num_nonnan_per_hour), np.std(num_nonnan_per_hour), np.mean(num_avg_visits_per_hour), np.std(num_avg_visits_per_hour)))"
   ]
  },
  {
   "cell_type": "code",
   "execution_count": null,
   "metadata": {},
   "outputs": [],
   "source": [
    "from matplotlib import ticker as tick\n",
    "\n",
    "fig, ax = plt.subplots(figsize=(15, 5))\n",
    "x = all_hours\n",
    "y = apply_smoothing(visits_per_hour, before=24, after=24)\n",
    "ax.plot_date(x, y, linestyle='-', marker='.')\n",
    "ax.xaxis.set_major_locator(mdates.MonthLocator(interval=2))\n",
    "ax.xaxis.set_major_formatter(mdates.DateFormatter('%Y-%m-%d'))\n",
    "ax.set_xlabel('Date (every 3 Sundays)', fontsize=16)\n",
    "ax.set_ylabel('Average num visits per POI\\n(with 2-day smoothing)', fontsize=16)\n",
    "ax.set_title('%s' % MSAS_TO_PRETTY_NAMES[msa_name], fontsize=18)\n",
    "ax.tick_params(labelsize=14)\n",
    "ax.grid(alpha=0.2)\n",
    "plt.show()"
   ]
  },
  {
   "cell_type": "markdown",
   "metadata": {},
   "source": [
    "# Post-processing on MSA files: create time-aggregated"
   ]
  },
  {
   "cell_type": "markdown",
   "metadata": {},
   "source": [
    "In this section, we aggregate data over many weeks to provide time-aggregated estimates for certain POI attributes. \n",
    "- During network inference (see generate_ipf.py), we use time-aggregated estimates of each POI's visitors' home CBG distribution.\n",
    "- In our model (see model_experiments.py), we use time-aggregated estimates for each POI's dwell time.\n",
    "\n",
    "Since we use time-aggregated estimates, we do not update these values every time we download new SafeGraph data. As of February 2021, we are using the weeks from 2019/12/30 to 2020/10/19 as the basis for time-aggregated information."
   ]
  },
  {
   "cell_type": "code",
   "execution_count": null,
   "metadata": {
    "scrolled": true
   },
   "outputs": [],
   "source": [
    "pop_df = helper.load_dataframe_to_correct_for_population_size(version='v2', verbose=False)\n",
    "pop_df.head()"
   ]
  },
  {
   "cell_type": "code",
   "execution_count": null,
   "metadata": {},
   "outputs": [],
   "source": [
    "# constant info: core, area, aggregated dwell time, aggregated home cbgs\n",
    "def make_time_aggregated_file_for_msa(msa_name, core_poi_df, pop_df, time_period_strings, dfs=None):\n",
    "    prefix = '%s_%s' % (time_period_strings[0].split('_')[0], time_period_strings[-1].split('_')[1])\n",
    "    print('Prefix:', prefix)\n",
    "    pois_in_msa = set()\n",
    "    if dfs is None:\n",
    "        dfs = []\n",
    "        for ts in time_period_strings:\n",
    "            df = helper.load_dataframe_for_individual_msa(msa_name, version='v2', time_period=ts)\n",
    "            pois_in_msa = pois_in_msa.union(df.index)\n",
    "            dfs.append(df)\n",
    "    else:\n",
    "        copied_dfs = []\n",
    "        for df in dfs:\n",
    "            copied_dfs.append(df.copy())  # don't want to modify by accident\n",
    "            pois_in_msa = pois_in_msa.union(df.index)\n",
    "        dfs = copied_dfs\n",
    "    \n",
    "    pois_in_msa = list(sorted(pois_in_msa))\n",
    "    base = core_poi_df.loc[pois_in_msa].copy()\n",
    "    parent_ids = set(core_poi_df.parent_safegraph_place_id)\n",
    "    is_parent = base.index.isin(parent_ids)\n",
    "    parents = base[is_parent]\n",
    "    nonparents = base[~is_parent]\n",
    "    print('In MSA: %d parent POIs; %d non-parent POIs' % (len(parents), len(nonparents)))\n",
    "    base = nonparents    \n",
    "    base['poi_cbg'] = np.nan\n",
    "    for df in dfs:\n",
    "        visitor_home_cbg_cols = sorted([col for col in df.columns if col.endswith('visitor_home_cbgs')])\n",
    "        median_dwell_cols = sorted([col for col in df.columns if col.endswith('median_dwell')])\n",
    "        cols_to_keep = ['single_poi_cbg'] + visitor_home_cbg_cols + median_dwell_cols\n",
    "        base = pd.merge(base, df[cols_to_keep], how='left', left_index=True, right_index=True, validate='one_to_one')\n",
    "        poi_cbg_is_nan = pd.isnull(base['poi_cbg'])  # update poi_cbg data that is still null\n",
    "        base['poi_cbg'][poi_cbg_is_nan] = base['single_poi_cbg'][poi_cbg_is_nan]  # each df has a single_poi_cbg column\n",
    "        base = base.drop(columns=['single_poi_cbg'])\n",
    "        \n",
    "    visitor_home_cbg_cols = [col for col in base.columns if col.endswith('visitor_home_cbgs')]\n",
    "    print('Found %d visitor home CBG columns' % len(visitor_home_cbg_cols))\n",
    "    is_null_mat = pd.isnull(base[visitor_home_cbg_cols])\n",
    "    base['num_weeks_with_visitor_home_cbgs'] = np.sum(~is_null_mat, axis=1)\n",
    "    periods_to_include = [c[:10] for c in visitor_home_cbg_cols]  # only keep date string\n",
    "    base = helper.aggregate_visitor_home_cbgs_over_months(base, population_df=pop_df, \n",
    "                                                cutoff_year=None, periods_to_include=periods_to_include)\n",
    "    base = base.rename(columns={k:'%s_%s' % (prefix, k) for k in ['aggregated_cbg_population_adjusted_visitor_home_cbgs', \n",
    "          'aggregated_visitor_home_cbgs']})\n",
    "\n",
    "    median_dwell_cols = [col for col in base.columns if col.endswith('median_dwell')]\n",
    "    print('Found %d median dwell columns' % len(median_dwell_cols))\n",
    "    is_null_mat = pd.isnull(base[median_dwell_cols])\n",
    "    base['num_weeks_with_median_dwell'] = np.sum(~is_null_mat, axis=1)\n",
    "    base['%s_median_of_median_dwell' % prefix] = np.nanmedian(base[median_dwell_cols].values, axis=1)\n",
    "    \n",
    "    cols_to_drop = [col for col in base.columns if '.' in col]  # time-varying are <date>.<col_name>\n",
    "    base = base.drop(columns=cols_to_drop)\n",
    "    for k in ['%s_aggregated_cbg_population_adjusted_visitor_home_cbgs' % prefix, \n",
    "              '%s_aggregated_visitor_home_cbgs' % prefix]:\n",
    "        base[k] = base[k].map(lambda x:json.dumps(dict(x))) # cast to json so properly saved in CSV. \n",
    "    path_to_csv = os.path.join(NEW_STRATIFIED_BY_AREA_DIR, 'time_aggregated/%s_%s.csv' % (prefix, msa_name))\n",
    "    print('Saving at', path_to_csv)\n",
    "    base.to_csv(path_to_csv)\n",
    "    return base"
   ]
  },
  {
   "cell_type": "code",
   "execution_count": null,
   "metadata": {},
   "outputs": [],
   "source": [
    "stratified_by_msa_dir = os.path.join(NEW_STRATIFIED_BY_AREA_DIR, '20200824_20201019')\n",
    "fns = os.listdir(stratified_by_msa_dir)\n",
    "va_msas = []\n",
    "for fn in fns:\n",
    "    msa = fn.split('.')[0]  # drop .csv\n",
    "    states = msa.split('_')[1:]\n",
    "    if 'VA' in states:\n",
    "        va_msas.append(msa)\n",
    "print('Found %d MSAs that overlap with VA' % len(va_msas))\n",
    "print(va_msas)"
   ]
  },
  {
   "cell_type": "code",
   "execution_count": null,
   "metadata": {
    "scrolled": true
   },
   "outputs": [],
   "source": [
    "time_period_strings = ['20191230_20200224', '20200302_20200608', '20200615_20200817', '20200824_20201019']\n",
    "for msa_name in va_msas:\n",
    "    make_time_aggregated_file_for_msa(msa_name, core_poi_df, pop_df, time_period_strings, dfs=None)"
   ]
  },
  {
   "cell_type": "code",
   "execution_count": null,
   "outputs": [],
   "source": [
    "import pyan\n",
    "from IPython.display import HTML\n",
    "HTML(pyan.create_callgraph(filenames=\"**/*.py\", format=\"html\"))\n"
   ],
   "metadata": {
    "collapsed": false,
    "pycharm": {
     "name": "#%%\n"
    }
   }
  },
  {
   "cell_type": "code",
   "execution_count": null,
   "outputs": [],
   "source": [
    "# process ACS_5YR_2019\n",
    "PATH_TO_ACS_5YR_BG= r'/media/gpu/easystore/covid_mobility_results/new_census_data/ACS_2019_5YR_BG'\n",
    "#acs_gdf = gpd.read_file(PATH_TO_ACS_5YR_DATA_GEODATABASE, layer='ACS_2019_5YR_BG')\n",
    "\n",
    "\n",
    "acs_df = pd.read_csv(os.path.join(PATH_TO_ACS_5YR_BG, 'ACS_2019_5YR_BG.CSV'))\n",
    "\n",
    "acs_df"
   ],
   "metadata": {
    "collapsed": false,
    "pycharm": {
     "name": "#%%\n"
    }
   }
  },
  {
   "cell_type": "code",
   "execution_count": null,
   "outputs": [],
   "source": [
    "acs_df.head(1)\n"
   ],
   "metadata": {
    "collapsed": false,
    "pycharm": {
     "name": "#%%\n"
    }
   }
  },
  {
   "cell_type": "code",
   "execution_count": 3,
   "outputs": [
    {
     "name": "stderr",
     "output_type": "stream",
     "text": [
      "/media/gpu/easystore/covid-mobility-tool/env_dir/lib/python3.7/site-packages/pyproj/crs/crs.py:53: FutureWarning: '+init=<authority>:<code>' syntax is deprecated. '<authority>:<code>' is the preferred initialization method. When making the change, be mindful of axis order changes: https://pyproj4.github.io/pyproj/stable/gotchas.html#axis-order-changes-in-proj-6\n",
      "  return _prepare_from_string(\" \".join(pjargs))\n"
     ]
    },
    {
     "data": {
      "text/plain": "<matplotlib.axes._subplots.AxesSubplot at 0x7f8b5aa35438>"
     },
     "execution_count": 3,
     "metadata": {},
     "output_type": "execute_result"
    }
   ],
   "source": [
    "import pandas as pd\n",
    "import geopandas as gpd\n",
    "\n",
    "import os\n",
    "# calculate area\n",
    "PATH_TO_ACS_5YR_BG= r'/media/gpu/easystore/covid_mobility_results/new_census_data/ACS_2019_5YR_BG'\n",
    "\n",
    "acs_gdf = gpd.read_file(os.path.join(PATH_TO_ACS_5YR_BG, 'ACS_2019_5YR_BG ACS_2019_5YR_BG.shp')).to_crs({'proj':'cea'})\n",
    "acs_gdf.plot()\n",
    "\n"
   ],
   "metadata": {
    "collapsed": false,
    "pycharm": {
     "name": "#%%\n"
    }
   }
  },
  {
   "cell_type": "code",
   "execution_count": 4,
   "outputs": [],
   "source": [
    "acs_df = acs_gdf.drop(columns=['geometry'])\n",
    "acs_df['Shape_Area'] = acs_gdf['geometry'].area\n",
    "\n",
    "acs_df.to_csv(os.path.join(PATH_TO_ACS_5YR_BG, 'ACS_2019_5YR_BG.CSV'), index=False)"
   ],
   "metadata": {
    "collapsed": false,
    "pycharm": {
     "name": "#%%\n"
    }
   }
  },
  {
   "cell_type": "code",
   "execution_count": 5,
   "outputs": [
    {
     "data": {
      "text/plain": "        OBJECTID                GEOID  B01001e1  B01001m1  B01001e2  B01001m2  \\\n0              1  15000US010010201001       730       222       293        87   \n1              2  15000US010010201002      1263       291       614       148   \n2              3  15000US010010202001       835       222       393       137   \n3              4  15000US010010202002      1124       166       665       132   \n4              5  15000US010010203001      2774       330      1423       225   \n5              6  15000US010010203002       733       244       308       133   \n6              7  15000US010010204001       761       167       374        94   \n7              8  15000US010010204002      1756       251       810       157   \n8              9  15000US010010204003       866       189       496       174   \n9             10  15000US010010204004       495       144       269        95   \n10            11  15000US010010205001      1972       581       850       353   \n11            12  15000US010010205002      6015       683      2894       424   \n12            13  15000US010010205003      2609       724      1512       456   \n13            14  15000US010010206001      2550       450      1269       287   \n14            15  15000US010010206002      1118       388       408       178   \n15            16  15000US010010207001      2088       399       883       223   \n16            17  15000US010010207002      1498       477       744       262   \n17            18  15000US010010208011       860       225       381       110   \n18            19  15000US010010208012      2336       285      1186       193   \n19            20  15000US010010208021      3158       774      1461       382   \n20            21  15000US010010208022      3804       631      1907       382   \n21            22  15000US010010208023      1581       518       770       320   \n22            23  15000US010010208024      2599       597      1177       321   \n23            24  15000US010010209001      1296       362       677       236   \n24            25  15000US010010209002      1093       314       559       176   \n25            26  15000US010010209003      1583       429       768       212   \n26            27  15000US010010209004      2171       544      1119       320   \n27            28  15000US010010210001       596       163       268        78   \n28            29  15000US010010210002      1931       268       924       174   \n29            30  15000US010010211001      1792       355       872       203   \n...          ...                  ...       ...       ...       ...       ...   \n220303    220304  15000US721519513003      1911       528       942       281   \n220304    220305  15000US721519900000         0        14         0        14   \n220305    220306  15000US721537501011      1256       371       656       211   \n220306    220307  15000US721537501012       877       276       436       173   \n220307    220308  15000US721537501021      1377       449       753       351   \n220308    220309  15000US721537501022      1812       466      1006       307   \n220309    220310  15000US721537502011      1384       416       794       242   \n220310    220311  15000US721537502012      1345       418       749       288   \n220311    220312  15000US721537502021       988       456       355       141   \n220312    220313  15000US721537502022      1229       324       542       188   \n220313    220314  15000US721537502023      1110       319       580       153   \n220314    220315  15000US721537503001      1882       411       912       218   \n220315    220316  15000US721537503002      2014       489       856       286   \n220316    220317  15000US721537504001       731       311       370       175   \n220317    220318  15000US721537504002       646       218       280       107   \n220318    220319  15000US721537504003       309       140       163        95   \n220319    220320  15000US721537504004       638       268       246       144   \n220320    220321  15000US721537504005       581       272       245       121   \n220321    220322  15000US721537505011      1436       589       638       330   \n220322    220323  15000US721537505012      3261       566      1519       329   \n220323    220324  15000US721537505013      1416       490       663       266   \n220324    220325  15000US721537505021       737       263       332       143   \n220325    220326  15000US721537505022      1651       316       766       189   \n220326    220327  15000US721537505031      1145       330       551       185   \n220327    220328  15000US721537505032       981       302       450       154   \n220328    220329  15000US721537506011       883       416       480       217   \n220329    220330  15000US721537506012      2523       569      1010       243   \n220330    220331  15000US721537506013       991       378       477       216   \n220331    220332  15000US721537506021      1577       520       795       284   \n220332    220333  15000US721537506022       648       312       335       154   \n\n        B01001e3  B01001m3  B01001e4  B01001m4  ...  B01002He3  B01002Hm3  \\\n0             10        12        26        25  ...       37.9       21.1   \n1             24        29        29        22  ...       38.6        7.5   \n2             40        37        69        63  ...       31.9       24.3   \n3             39        25        46        39  ...       40.2        6.1   \n4             20        24       143        84  ...       40.7       12.9   \n5             42        63         0        12  ...       33.8       42.7   \n6              8        14        20        23  ...       54.3       10.4   \n7             23        26        99        63  ...       46.4       10.3   \n8             12        20        32        28  ...       57.2        6.7   \n9             21        34         8        11  ...       50.3       24.9   \n10           111       106        42        57  ...       37.1       11.2   \n11            88        88       253       136  ...       45.4        6.3   \n12            30        46       193       154  ...       49.5        8.5   \n13           104        70       214       140  ...       46.3       11.6   \n14            50        52         0        12  ...       36.8       16.0   \n15            26        37        35        44  ...       44.8        9.1   \n16           122        94        16        25  ...       42.4       10.0   \n17             0        12        27        32  ...       35.8       25.3   \n18            99        89       120        63  ...       42.6        6.9   \n19            65        77       208       171  ...       35.4       10.9   \n20           301       206       126        82  ...       38.1       13.0   \n21            77        93         0        12  ...       37.1        9.5   \n22            48        45        50        58  ...       35.8       13.7   \n23             0        12        82        69  ...       45.0       12.4   \n24            19        22        13        23  ...       50.2       11.0   \n25             5        12        66        75  ...       44.5       12.6   \n26           198       157        51        54  ...       30.5        5.1   \n27             8        13         9        15  ...       47.9        5.0   \n28            67        58        53        33  ...       37.9        7.8   \n29            67        54        70        49  ...       46.0       14.9   \n...          ...       ...       ...       ...  ...        ...        ...   \n220303        16        24        48        53  ...        NaN        NaN   \n220304         0        14         0        14  ...        NaN        NaN   \n220305        43        53         0        14  ...        NaN        NaN   \n220306        34        55         0        14  ...        NaN        NaN   \n220307        50        74        19        31  ...        NaN        NaN   \n220308         0        14         0        14  ...        NaN        NaN   \n220309         0        14        22        33  ...        NaN        NaN   \n220310        57        67         0        14  ...        NaN        NaN   \n220311        16        24         0        14  ...        NaN        NaN   \n220312         0        14        28        45  ...        NaN        NaN   \n220313         0        14         0        14  ...        NaN        NaN   \n220314        36        56        55        60  ...        NaN        NaN   \n220315         0        14         0        14  ...        NaN        NaN   \n220316        27        43        17        28  ...        NaN        NaN   \n220317         0        14         0        14  ...        NaN        NaN   \n220318        18        29         0        14  ...        NaN        NaN   \n220319        18        29         0        14  ...        NaN        NaN   \n220320        34        53        17        27  ...        NaN        NaN   \n220321         0        14        73        78  ...        NaN        NaN   \n220322        16        25       155        88  ...        NaN        NaN   \n220323         0        14       143       168  ...        NaN        NaN   \n220324        39        47        22        35  ...        NaN        NaN   \n220325        11        16        74        62  ...        NaN        NaN   \n220326        16        25        17        28  ...        NaN        NaN   \n220327        34        46        94        68  ...        NaN        NaN   \n220328        48        74        38        61  ...        NaN        NaN   \n220329       117       106        19        29  ...        NaN        NaN   \n220330        33        53         0        14  ...        NaN        NaN   \n220331        68        61         0        14  ...        NaN        NaN   \n220332        43        67         0        14  ...        NaN        NaN   \n\n        B01002Ie1  B01002Im1  B01002Ie2  B01002Im2  B01002Ie3  B01002Im3  \\\n0             NaN        NaN        NaN        NaN        NaN        NaN   \n1             NaN        NaN        NaN        NaN        NaN        NaN   \n2            65.6       64.9        NaN        NaN       65.6       64.9   \n3             NaN        NaN        NaN        NaN        NaN        NaN   \n4            27.8        0.5       27.5        0.2       28.5        0.4   \n5             NaN        NaN        NaN        NaN        NaN        NaN   \n6             NaN        NaN        NaN        NaN        NaN        NaN   \n7            18.4        0.9        NaN        NaN       18.4       11.9   \n8             NaN        NaN        NaN        NaN        NaN        NaN   \n9             NaN        NaN        NaN        NaN        NaN        NaN   \n10            NaN        NaN        NaN        NaN        NaN        NaN   \n11           22.7       17.9        NaN        NaN       22.5        0.4   \n12            NaN        NaN        NaN        NaN        NaN        NaN   \n13            9.0       19.8        6.0        0.1       29.0       96.3   \n14            NaN        NaN        NaN        NaN        NaN        NaN   \n15           34.3       20.4       34.7       20.1        NaN        NaN   \n16            8.1       10.5       32.0       53.8        8.0        3.9   \n17            NaN        NaN        NaN        NaN        NaN        NaN   \n18           54.9        2.5        NaN        NaN        NaN        NaN   \n19            NaN        NaN        NaN        NaN        NaN        NaN   \n20            NaN        NaN        NaN        NaN        NaN        NaN   \n21           11.9       11.9       11.3       10.6        NaN        NaN   \n22            NaN        NaN        NaN        NaN        NaN        NaN   \n23            NaN        NaN        NaN        NaN        NaN        NaN   \n24            NaN        NaN        NaN        NaN        NaN        NaN   \n25            NaN        NaN        NaN        NaN        NaN        NaN   \n26            NaN        NaN        NaN        NaN        NaN        NaN   \n27            NaN        NaN        NaN        NaN        NaN        NaN   \n28           31.7       57.9        NaN        NaN        NaN        NaN   \n29           27.7       19.0       27.4       16.2       38.5       34.6   \n...           ...        ...        ...        ...        ...        ...   \n220303       48.8        8.8       51.9       17.2       48.5       10.6   \n220304        NaN        NaN        NaN        NaN        NaN        NaN   \n220305       47.1       10.8       53.3       15.8       46.6       13.5   \n220306       54.4        6.5       54.5        9.9       52.8        8.9   \n220307       48.3        9.6       43.7        5.0       58.0        8.4   \n220308       50.5        6.7       47.2        8.4       53.4        6.6   \n220309       47.9       11.9       47.8       11.0       52.2       26.2   \n220310       42.7       17.8       37.9       16.0       60.5        6.0   \n220311       56.6       24.6       69.9        4.8       39.6       19.5   \n220312       53.2       26.4       39.2       20.0       55.8       15.2   \n220313       55.6        7.2       55.8        7.1       52.3       16.4   \n220314       34.9        6.7       38.2       12.9       34.2        7.9   \n220315       47.1        6.2       45.4       11.6       47.6        6.0   \n220316       49.5        8.2       41.9       19.1       51.1        4.0   \n220317       55.4        3.9       54.2        7.4       56.7       27.5   \n220318       58.4       10.5       65.4       11.8       49.3       28.5   \n220319       40.8       10.9       47.2       16.1       40.8        5.2   \n220320       42.0       14.2       29.5       27.2       46.8       16.1   \n220321       30.1       10.6       26.7       27.5       30.3        5.3   \n220322       35.5        2.6       34.9        3.5       37.0        6.8   \n220323       42.8       12.8       42.5       15.0       49.4       19.6   \n220324       26.1       10.4       23.7       10.3       30.1       10.5   \n220325       40.8       11.1       40.8       14.1       40.9       11.5   \n220326       40.3       16.9       45.3       20.1       35.1       13.2   \n220327       41.0       13.7       38.6       19.7       41.1       11.6   \n220328       40.4       17.5       36.4       32.8       49.0       20.4   \n220329       40.3       10.0       40.1       11.8       43.5       12.1   \n220330       23.2        5.8       18.4        3.1       24.7       13.9   \n220331       50.9        8.1       46.5        8.5       54.6        5.4   \n220332       40.4       13.3       32.2        7.9       48.4       15.3   \n\n        B01003e1  B01003m1  \n0            730       222  \n1           1263       291  \n2            835       222  \n3           1124       166  \n4           2774       330  \n5            733       244  \n6            761       167  \n7           1756       251  \n8            866       189  \n9            495       144  \n10          1972       581  \n11          6015       683  \n12          2609       724  \n13          2550       450  \n14          1118       388  \n15          2088       399  \n16          1498       477  \n17           860       225  \n18          2336       285  \n19          3158       774  \n20          3804       631  \n21          1581       518  \n22          2599       597  \n23          1296       362  \n24          1093       314  \n25          1583       429  \n26          2171       544  \n27           596       163  \n28          1931       268  \n29          1792       355  \n...          ...       ...  \n220303      1911       528  \n220304         0        14  \n220305      1256       371  \n220306       877       276  \n220307      1377       449  \n220308      1812       466  \n220309      1384       416  \n220310      1345       418  \n220311       988       456  \n220312      1229       324  \n220313      1110       319  \n220314      1882       411  \n220315      2014       489  \n220316       731       311  \n220317       646       218  \n220318       309       140  \n220319       638       268  \n220320       581       272  \n220321      1436       589  \n220322      3261       566  \n220323      1416       490  \n220324       737       263  \n220325      1651       316  \n220326      1145       330  \n220327       981       302  \n220328       883       416  \n220329      2523       569  \n220330       991       378  \n220331      1577       520  \n220332       648       312  \n\n[220333 rows x 162 columns]",
      "text/html": "<div>\n<style scoped>\n    .dataframe tbody tr th:only-of-type {\n        vertical-align: middle;\n    }\n\n    .dataframe tbody tr th {\n        vertical-align: top;\n    }\n\n    .dataframe thead th {\n        text-align: right;\n    }\n</style>\n<table border=\"1\" class=\"dataframe\">\n  <thead>\n    <tr style=\"text-align: right;\">\n      <th></th>\n      <th>OBJECTID</th>\n      <th>GEOID</th>\n      <th>B01001e1</th>\n      <th>B01001m1</th>\n      <th>B01001e2</th>\n      <th>B01001m2</th>\n      <th>B01001e3</th>\n      <th>B01001m3</th>\n      <th>B01001e4</th>\n      <th>B01001m4</th>\n      <th>...</th>\n      <th>B01002He3</th>\n      <th>B01002Hm3</th>\n      <th>B01002Ie1</th>\n      <th>B01002Im1</th>\n      <th>B01002Ie2</th>\n      <th>B01002Im2</th>\n      <th>B01002Ie3</th>\n      <th>B01002Im3</th>\n      <th>B01003e1</th>\n      <th>B01003m1</th>\n    </tr>\n  </thead>\n  <tbody>\n    <tr>\n      <th>0</th>\n      <td>1</td>\n      <td>15000US010010201001</td>\n      <td>730</td>\n      <td>222</td>\n      <td>293</td>\n      <td>87</td>\n      <td>10</td>\n      <td>12</td>\n      <td>26</td>\n      <td>25</td>\n      <td>...</td>\n      <td>37.9</td>\n      <td>21.1</td>\n      <td>NaN</td>\n      <td>NaN</td>\n      <td>NaN</td>\n      <td>NaN</td>\n      <td>NaN</td>\n      <td>NaN</td>\n      <td>730</td>\n      <td>222</td>\n    </tr>\n    <tr>\n      <th>1</th>\n      <td>2</td>\n      <td>15000US010010201002</td>\n      <td>1263</td>\n      <td>291</td>\n      <td>614</td>\n      <td>148</td>\n      <td>24</td>\n      <td>29</td>\n      <td>29</td>\n      <td>22</td>\n      <td>...</td>\n      <td>38.6</td>\n      <td>7.5</td>\n      <td>NaN</td>\n      <td>NaN</td>\n      <td>NaN</td>\n      <td>NaN</td>\n      <td>NaN</td>\n      <td>NaN</td>\n      <td>1263</td>\n      <td>291</td>\n    </tr>\n    <tr>\n      <th>2</th>\n      <td>3</td>\n      <td>15000US010010202001</td>\n      <td>835</td>\n      <td>222</td>\n      <td>393</td>\n      <td>137</td>\n      <td>40</td>\n      <td>37</td>\n      <td>69</td>\n      <td>63</td>\n      <td>...</td>\n      <td>31.9</td>\n      <td>24.3</td>\n      <td>65.6</td>\n      <td>64.9</td>\n      <td>NaN</td>\n      <td>NaN</td>\n      <td>65.6</td>\n      <td>64.9</td>\n      <td>835</td>\n      <td>222</td>\n    </tr>\n    <tr>\n      <th>3</th>\n      <td>4</td>\n      <td>15000US010010202002</td>\n      <td>1124</td>\n      <td>166</td>\n      <td>665</td>\n      <td>132</td>\n      <td>39</td>\n      <td>25</td>\n      <td>46</td>\n      <td>39</td>\n      <td>...</td>\n      <td>40.2</td>\n      <td>6.1</td>\n      <td>NaN</td>\n      <td>NaN</td>\n      <td>NaN</td>\n      <td>NaN</td>\n      <td>NaN</td>\n      <td>NaN</td>\n      <td>1124</td>\n      <td>166</td>\n    </tr>\n    <tr>\n      <th>4</th>\n      <td>5</td>\n      <td>15000US010010203001</td>\n      <td>2774</td>\n      <td>330</td>\n      <td>1423</td>\n      <td>225</td>\n      <td>20</td>\n      <td>24</td>\n      <td>143</td>\n      <td>84</td>\n      <td>...</td>\n      <td>40.7</td>\n      <td>12.9</td>\n      <td>27.8</td>\n      <td>0.5</td>\n      <td>27.5</td>\n      <td>0.2</td>\n      <td>28.5</td>\n      <td>0.4</td>\n      <td>2774</td>\n      <td>330</td>\n    </tr>\n    <tr>\n      <th>5</th>\n      <td>6</td>\n      <td>15000US010010203002</td>\n      <td>733</td>\n      <td>244</td>\n      <td>308</td>\n      <td>133</td>\n      <td>42</td>\n      <td>63</td>\n      <td>0</td>\n      <td>12</td>\n      <td>...</td>\n      <td>33.8</td>\n      <td>42.7</td>\n      <td>NaN</td>\n      <td>NaN</td>\n      <td>NaN</td>\n      <td>NaN</td>\n      <td>NaN</td>\n      <td>NaN</td>\n      <td>733</td>\n      <td>244</td>\n    </tr>\n    <tr>\n      <th>6</th>\n      <td>7</td>\n      <td>15000US010010204001</td>\n      <td>761</td>\n      <td>167</td>\n      <td>374</td>\n      <td>94</td>\n      <td>8</td>\n      <td>14</td>\n      <td>20</td>\n      <td>23</td>\n      <td>...</td>\n      <td>54.3</td>\n      <td>10.4</td>\n      <td>NaN</td>\n      <td>NaN</td>\n      <td>NaN</td>\n      <td>NaN</td>\n      <td>NaN</td>\n      <td>NaN</td>\n      <td>761</td>\n      <td>167</td>\n    </tr>\n    <tr>\n      <th>7</th>\n      <td>8</td>\n      <td>15000US010010204002</td>\n      <td>1756</td>\n      <td>251</td>\n      <td>810</td>\n      <td>157</td>\n      <td>23</td>\n      <td>26</td>\n      <td>99</td>\n      <td>63</td>\n      <td>...</td>\n      <td>46.4</td>\n      <td>10.3</td>\n      <td>18.4</td>\n      <td>0.9</td>\n      <td>NaN</td>\n      <td>NaN</td>\n      <td>18.4</td>\n      <td>11.9</td>\n      <td>1756</td>\n      <td>251</td>\n    </tr>\n    <tr>\n      <th>8</th>\n      <td>9</td>\n      <td>15000US010010204003</td>\n      <td>866</td>\n      <td>189</td>\n      <td>496</td>\n      <td>174</td>\n      <td>12</td>\n      <td>20</td>\n      <td>32</td>\n      <td>28</td>\n      <td>...</td>\n      <td>57.2</td>\n      <td>6.7</td>\n      <td>NaN</td>\n      <td>NaN</td>\n      <td>NaN</td>\n      <td>NaN</td>\n      <td>NaN</td>\n      <td>NaN</td>\n      <td>866</td>\n      <td>189</td>\n    </tr>\n    <tr>\n      <th>9</th>\n      <td>10</td>\n      <td>15000US010010204004</td>\n      <td>495</td>\n      <td>144</td>\n      <td>269</td>\n      <td>95</td>\n      <td>21</td>\n      <td>34</td>\n      <td>8</td>\n      <td>11</td>\n      <td>...</td>\n      <td>50.3</td>\n      <td>24.9</td>\n      <td>NaN</td>\n      <td>NaN</td>\n      <td>NaN</td>\n      <td>NaN</td>\n      <td>NaN</td>\n      <td>NaN</td>\n      <td>495</td>\n      <td>144</td>\n    </tr>\n    <tr>\n      <th>10</th>\n      <td>11</td>\n      <td>15000US010010205001</td>\n      <td>1972</td>\n      <td>581</td>\n      <td>850</td>\n      <td>353</td>\n      <td>111</td>\n      <td>106</td>\n      <td>42</td>\n      <td>57</td>\n      <td>...</td>\n      <td>37.1</td>\n      <td>11.2</td>\n      <td>NaN</td>\n      <td>NaN</td>\n      <td>NaN</td>\n      <td>NaN</td>\n      <td>NaN</td>\n      <td>NaN</td>\n      <td>1972</td>\n      <td>581</td>\n    </tr>\n    <tr>\n      <th>11</th>\n      <td>12</td>\n      <td>15000US010010205002</td>\n      <td>6015</td>\n      <td>683</td>\n      <td>2894</td>\n      <td>424</td>\n      <td>88</td>\n      <td>88</td>\n      <td>253</td>\n      <td>136</td>\n      <td>...</td>\n      <td>45.4</td>\n      <td>6.3</td>\n      <td>22.7</td>\n      <td>17.9</td>\n      <td>NaN</td>\n      <td>NaN</td>\n      <td>22.5</td>\n      <td>0.4</td>\n      <td>6015</td>\n      <td>683</td>\n    </tr>\n    <tr>\n      <th>12</th>\n      <td>13</td>\n      <td>15000US010010205003</td>\n      <td>2609</td>\n      <td>724</td>\n      <td>1512</td>\n      <td>456</td>\n      <td>30</td>\n      <td>46</td>\n      <td>193</td>\n      <td>154</td>\n      <td>...</td>\n      <td>49.5</td>\n      <td>8.5</td>\n      <td>NaN</td>\n      <td>NaN</td>\n      <td>NaN</td>\n      <td>NaN</td>\n      <td>NaN</td>\n      <td>NaN</td>\n      <td>2609</td>\n      <td>724</td>\n    </tr>\n    <tr>\n      <th>13</th>\n      <td>14</td>\n      <td>15000US010010206001</td>\n      <td>2550</td>\n      <td>450</td>\n      <td>1269</td>\n      <td>287</td>\n      <td>104</td>\n      <td>70</td>\n      <td>214</td>\n      <td>140</td>\n      <td>...</td>\n      <td>46.3</td>\n      <td>11.6</td>\n      <td>9.0</td>\n      <td>19.8</td>\n      <td>6.0</td>\n      <td>0.1</td>\n      <td>29.0</td>\n      <td>96.3</td>\n      <td>2550</td>\n      <td>450</td>\n    </tr>\n    <tr>\n      <th>14</th>\n      <td>15</td>\n      <td>15000US010010206002</td>\n      <td>1118</td>\n      <td>388</td>\n      <td>408</td>\n      <td>178</td>\n      <td>50</td>\n      <td>52</td>\n      <td>0</td>\n      <td>12</td>\n      <td>...</td>\n      <td>36.8</td>\n      <td>16.0</td>\n      <td>NaN</td>\n      <td>NaN</td>\n      <td>NaN</td>\n      <td>NaN</td>\n      <td>NaN</td>\n      <td>NaN</td>\n      <td>1118</td>\n      <td>388</td>\n    </tr>\n    <tr>\n      <th>15</th>\n      <td>16</td>\n      <td>15000US010010207001</td>\n      <td>2088</td>\n      <td>399</td>\n      <td>883</td>\n      <td>223</td>\n      <td>26</td>\n      <td>37</td>\n      <td>35</td>\n      <td>44</td>\n      <td>...</td>\n      <td>44.8</td>\n      <td>9.1</td>\n      <td>34.3</td>\n      <td>20.4</td>\n      <td>34.7</td>\n      <td>20.1</td>\n      <td>NaN</td>\n      <td>NaN</td>\n      <td>2088</td>\n      <td>399</td>\n    </tr>\n    <tr>\n      <th>16</th>\n      <td>17</td>\n      <td>15000US010010207002</td>\n      <td>1498</td>\n      <td>477</td>\n      <td>744</td>\n      <td>262</td>\n      <td>122</td>\n      <td>94</td>\n      <td>16</td>\n      <td>25</td>\n      <td>...</td>\n      <td>42.4</td>\n      <td>10.0</td>\n      <td>8.1</td>\n      <td>10.5</td>\n      <td>32.0</td>\n      <td>53.8</td>\n      <td>8.0</td>\n      <td>3.9</td>\n      <td>1498</td>\n      <td>477</td>\n    </tr>\n    <tr>\n      <th>17</th>\n      <td>18</td>\n      <td>15000US010010208011</td>\n      <td>860</td>\n      <td>225</td>\n      <td>381</td>\n      <td>110</td>\n      <td>0</td>\n      <td>12</td>\n      <td>27</td>\n      <td>32</td>\n      <td>...</td>\n      <td>35.8</td>\n      <td>25.3</td>\n      <td>NaN</td>\n      <td>NaN</td>\n      <td>NaN</td>\n      <td>NaN</td>\n      <td>NaN</td>\n      <td>NaN</td>\n      <td>860</td>\n      <td>225</td>\n    </tr>\n    <tr>\n      <th>18</th>\n      <td>19</td>\n      <td>15000US010010208012</td>\n      <td>2336</td>\n      <td>285</td>\n      <td>1186</td>\n      <td>193</td>\n      <td>99</td>\n      <td>89</td>\n      <td>120</td>\n      <td>63</td>\n      <td>...</td>\n      <td>42.6</td>\n      <td>6.9</td>\n      <td>54.9</td>\n      <td>2.5</td>\n      <td>NaN</td>\n      <td>NaN</td>\n      <td>NaN</td>\n      <td>NaN</td>\n      <td>2336</td>\n      <td>285</td>\n    </tr>\n    <tr>\n      <th>19</th>\n      <td>20</td>\n      <td>15000US010010208021</td>\n      <td>3158</td>\n      <td>774</td>\n      <td>1461</td>\n      <td>382</td>\n      <td>65</td>\n      <td>77</td>\n      <td>208</td>\n      <td>171</td>\n      <td>...</td>\n      <td>35.4</td>\n      <td>10.9</td>\n      <td>NaN</td>\n      <td>NaN</td>\n      <td>NaN</td>\n      <td>NaN</td>\n      <td>NaN</td>\n      <td>NaN</td>\n      <td>3158</td>\n      <td>774</td>\n    </tr>\n    <tr>\n      <th>20</th>\n      <td>21</td>\n      <td>15000US010010208022</td>\n      <td>3804</td>\n      <td>631</td>\n      <td>1907</td>\n      <td>382</td>\n      <td>301</td>\n      <td>206</td>\n      <td>126</td>\n      <td>82</td>\n      <td>...</td>\n      <td>38.1</td>\n      <td>13.0</td>\n      <td>NaN</td>\n      <td>NaN</td>\n      <td>NaN</td>\n      <td>NaN</td>\n      <td>NaN</td>\n      <td>NaN</td>\n      <td>3804</td>\n      <td>631</td>\n    </tr>\n    <tr>\n      <th>21</th>\n      <td>22</td>\n      <td>15000US010010208023</td>\n      <td>1581</td>\n      <td>518</td>\n      <td>770</td>\n      <td>320</td>\n      <td>77</td>\n      <td>93</td>\n      <td>0</td>\n      <td>12</td>\n      <td>...</td>\n      <td>37.1</td>\n      <td>9.5</td>\n      <td>11.9</td>\n      <td>11.9</td>\n      <td>11.3</td>\n      <td>10.6</td>\n      <td>NaN</td>\n      <td>NaN</td>\n      <td>1581</td>\n      <td>518</td>\n    </tr>\n    <tr>\n      <th>22</th>\n      <td>23</td>\n      <td>15000US010010208024</td>\n      <td>2599</td>\n      <td>597</td>\n      <td>1177</td>\n      <td>321</td>\n      <td>48</td>\n      <td>45</td>\n      <td>50</td>\n      <td>58</td>\n      <td>...</td>\n      <td>35.8</td>\n      <td>13.7</td>\n      <td>NaN</td>\n      <td>NaN</td>\n      <td>NaN</td>\n      <td>NaN</td>\n      <td>NaN</td>\n      <td>NaN</td>\n      <td>2599</td>\n      <td>597</td>\n    </tr>\n    <tr>\n      <th>23</th>\n      <td>24</td>\n      <td>15000US010010209001</td>\n      <td>1296</td>\n      <td>362</td>\n      <td>677</td>\n      <td>236</td>\n      <td>0</td>\n      <td>12</td>\n      <td>82</td>\n      <td>69</td>\n      <td>...</td>\n      <td>45.0</td>\n      <td>12.4</td>\n      <td>NaN</td>\n      <td>NaN</td>\n      <td>NaN</td>\n      <td>NaN</td>\n      <td>NaN</td>\n      <td>NaN</td>\n      <td>1296</td>\n      <td>362</td>\n    </tr>\n    <tr>\n      <th>24</th>\n      <td>25</td>\n      <td>15000US010010209002</td>\n      <td>1093</td>\n      <td>314</td>\n      <td>559</td>\n      <td>176</td>\n      <td>19</td>\n      <td>22</td>\n      <td>13</td>\n      <td>23</td>\n      <td>...</td>\n      <td>50.2</td>\n      <td>11.0</td>\n      <td>NaN</td>\n      <td>NaN</td>\n      <td>NaN</td>\n      <td>NaN</td>\n      <td>NaN</td>\n      <td>NaN</td>\n      <td>1093</td>\n      <td>314</td>\n    </tr>\n    <tr>\n      <th>25</th>\n      <td>26</td>\n      <td>15000US010010209003</td>\n      <td>1583</td>\n      <td>429</td>\n      <td>768</td>\n      <td>212</td>\n      <td>5</td>\n      <td>12</td>\n      <td>66</td>\n      <td>75</td>\n      <td>...</td>\n      <td>44.5</td>\n      <td>12.6</td>\n      <td>NaN</td>\n      <td>NaN</td>\n      <td>NaN</td>\n      <td>NaN</td>\n      <td>NaN</td>\n      <td>NaN</td>\n      <td>1583</td>\n      <td>429</td>\n    </tr>\n    <tr>\n      <th>26</th>\n      <td>27</td>\n      <td>15000US010010209004</td>\n      <td>2171</td>\n      <td>544</td>\n      <td>1119</td>\n      <td>320</td>\n      <td>198</td>\n      <td>157</td>\n      <td>51</td>\n      <td>54</td>\n      <td>...</td>\n      <td>30.5</td>\n      <td>5.1</td>\n      <td>NaN</td>\n      <td>NaN</td>\n      <td>NaN</td>\n      <td>NaN</td>\n      <td>NaN</td>\n      <td>NaN</td>\n      <td>2171</td>\n      <td>544</td>\n    </tr>\n    <tr>\n      <th>27</th>\n      <td>28</td>\n      <td>15000US010010210001</td>\n      <td>596</td>\n      <td>163</td>\n      <td>268</td>\n      <td>78</td>\n      <td>8</td>\n      <td>13</td>\n      <td>9</td>\n      <td>15</td>\n      <td>...</td>\n      <td>47.9</td>\n      <td>5.0</td>\n      <td>NaN</td>\n      <td>NaN</td>\n      <td>NaN</td>\n      <td>NaN</td>\n      <td>NaN</td>\n      <td>NaN</td>\n      <td>596</td>\n      <td>163</td>\n    </tr>\n    <tr>\n      <th>28</th>\n      <td>29</td>\n      <td>15000US010010210002</td>\n      <td>1931</td>\n      <td>268</td>\n      <td>924</td>\n      <td>174</td>\n      <td>67</td>\n      <td>58</td>\n      <td>53</td>\n      <td>33</td>\n      <td>...</td>\n      <td>37.9</td>\n      <td>7.8</td>\n      <td>31.7</td>\n      <td>57.9</td>\n      <td>NaN</td>\n      <td>NaN</td>\n      <td>NaN</td>\n      <td>NaN</td>\n      <td>1931</td>\n      <td>268</td>\n    </tr>\n    <tr>\n      <th>29</th>\n      <td>30</td>\n      <td>15000US010010211001</td>\n      <td>1792</td>\n      <td>355</td>\n      <td>872</td>\n      <td>203</td>\n      <td>67</td>\n      <td>54</td>\n      <td>70</td>\n      <td>49</td>\n      <td>...</td>\n      <td>46.0</td>\n      <td>14.9</td>\n      <td>27.7</td>\n      <td>19.0</td>\n      <td>27.4</td>\n      <td>16.2</td>\n      <td>38.5</td>\n      <td>34.6</td>\n      <td>1792</td>\n      <td>355</td>\n    </tr>\n    <tr>\n      <th>...</th>\n      <td>...</td>\n      <td>...</td>\n      <td>...</td>\n      <td>...</td>\n      <td>...</td>\n      <td>...</td>\n      <td>...</td>\n      <td>...</td>\n      <td>...</td>\n      <td>...</td>\n      <td>...</td>\n      <td>...</td>\n      <td>...</td>\n      <td>...</td>\n      <td>...</td>\n      <td>...</td>\n      <td>...</td>\n      <td>...</td>\n      <td>...</td>\n      <td>...</td>\n      <td>...</td>\n    </tr>\n    <tr>\n      <th>220303</th>\n      <td>220304</td>\n      <td>15000US721519513003</td>\n      <td>1911</td>\n      <td>528</td>\n      <td>942</td>\n      <td>281</td>\n      <td>16</td>\n      <td>24</td>\n      <td>48</td>\n      <td>53</td>\n      <td>...</td>\n      <td>NaN</td>\n      <td>NaN</td>\n      <td>48.8</td>\n      <td>8.8</td>\n      <td>51.9</td>\n      <td>17.2</td>\n      <td>48.5</td>\n      <td>10.6</td>\n      <td>1911</td>\n      <td>528</td>\n    </tr>\n    <tr>\n      <th>220304</th>\n      <td>220305</td>\n      <td>15000US721519900000</td>\n      <td>0</td>\n      <td>14</td>\n      <td>0</td>\n      <td>14</td>\n      <td>0</td>\n      <td>14</td>\n      <td>0</td>\n      <td>14</td>\n      <td>...</td>\n      <td>NaN</td>\n      <td>NaN</td>\n      <td>NaN</td>\n      <td>NaN</td>\n      <td>NaN</td>\n      <td>NaN</td>\n      <td>NaN</td>\n      <td>NaN</td>\n      <td>0</td>\n      <td>14</td>\n    </tr>\n    <tr>\n      <th>220305</th>\n      <td>220306</td>\n      <td>15000US721537501011</td>\n      <td>1256</td>\n      <td>371</td>\n      <td>656</td>\n      <td>211</td>\n      <td>43</td>\n      <td>53</td>\n      <td>0</td>\n      <td>14</td>\n      <td>...</td>\n      <td>NaN</td>\n      <td>NaN</td>\n      <td>47.1</td>\n      <td>10.8</td>\n      <td>53.3</td>\n      <td>15.8</td>\n      <td>46.6</td>\n      <td>13.5</td>\n      <td>1256</td>\n      <td>371</td>\n    </tr>\n    <tr>\n      <th>220306</th>\n      <td>220307</td>\n      <td>15000US721537501012</td>\n      <td>877</td>\n      <td>276</td>\n      <td>436</td>\n      <td>173</td>\n      <td>34</td>\n      <td>55</td>\n      <td>0</td>\n      <td>14</td>\n      <td>...</td>\n      <td>NaN</td>\n      <td>NaN</td>\n      <td>54.4</td>\n      <td>6.5</td>\n      <td>54.5</td>\n      <td>9.9</td>\n      <td>52.8</td>\n      <td>8.9</td>\n      <td>877</td>\n      <td>276</td>\n    </tr>\n    <tr>\n      <th>220307</th>\n      <td>220308</td>\n      <td>15000US721537501021</td>\n      <td>1377</td>\n      <td>449</td>\n      <td>753</td>\n      <td>351</td>\n      <td>50</td>\n      <td>74</td>\n      <td>19</td>\n      <td>31</td>\n      <td>...</td>\n      <td>NaN</td>\n      <td>NaN</td>\n      <td>48.3</td>\n      <td>9.6</td>\n      <td>43.7</td>\n      <td>5.0</td>\n      <td>58.0</td>\n      <td>8.4</td>\n      <td>1377</td>\n      <td>449</td>\n    </tr>\n    <tr>\n      <th>220308</th>\n      <td>220309</td>\n      <td>15000US721537501022</td>\n      <td>1812</td>\n      <td>466</td>\n      <td>1006</td>\n      <td>307</td>\n      <td>0</td>\n      <td>14</td>\n      <td>0</td>\n      <td>14</td>\n      <td>...</td>\n      <td>NaN</td>\n      <td>NaN</td>\n      <td>50.5</td>\n      <td>6.7</td>\n      <td>47.2</td>\n      <td>8.4</td>\n      <td>53.4</td>\n      <td>6.6</td>\n      <td>1812</td>\n      <td>466</td>\n    </tr>\n    <tr>\n      <th>220309</th>\n      <td>220310</td>\n      <td>15000US721537502011</td>\n      <td>1384</td>\n      <td>416</td>\n      <td>794</td>\n      <td>242</td>\n      <td>0</td>\n      <td>14</td>\n      <td>22</td>\n      <td>33</td>\n      <td>...</td>\n      <td>NaN</td>\n      <td>NaN</td>\n      <td>47.9</td>\n      <td>11.9</td>\n      <td>47.8</td>\n      <td>11.0</td>\n      <td>52.2</td>\n      <td>26.2</td>\n      <td>1384</td>\n      <td>416</td>\n    </tr>\n    <tr>\n      <th>220310</th>\n      <td>220311</td>\n      <td>15000US721537502012</td>\n      <td>1345</td>\n      <td>418</td>\n      <td>749</td>\n      <td>288</td>\n      <td>57</td>\n      <td>67</td>\n      <td>0</td>\n      <td>14</td>\n      <td>...</td>\n      <td>NaN</td>\n      <td>NaN</td>\n      <td>42.7</td>\n      <td>17.8</td>\n      <td>37.9</td>\n      <td>16.0</td>\n      <td>60.5</td>\n      <td>6.0</td>\n      <td>1345</td>\n      <td>418</td>\n    </tr>\n    <tr>\n      <th>220311</th>\n      <td>220312</td>\n      <td>15000US721537502021</td>\n      <td>988</td>\n      <td>456</td>\n      <td>355</td>\n      <td>141</td>\n      <td>16</td>\n      <td>24</td>\n      <td>0</td>\n      <td>14</td>\n      <td>...</td>\n      <td>NaN</td>\n      <td>NaN</td>\n      <td>56.6</td>\n      <td>24.6</td>\n      <td>69.9</td>\n      <td>4.8</td>\n      <td>39.6</td>\n      <td>19.5</td>\n      <td>988</td>\n      <td>456</td>\n    </tr>\n    <tr>\n      <th>220312</th>\n      <td>220313</td>\n      <td>15000US721537502022</td>\n      <td>1229</td>\n      <td>324</td>\n      <td>542</td>\n      <td>188</td>\n      <td>0</td>\n      <td>14</td>\n      <td>28</td>\n      <td>45</td>\n      <td>...</td>\n      <td>NaN</td>\n      <td>NaN</td>\n      <td>53.2</td>\n      <td>26.4</td>\n      <td>39.2</td>\n      <td>20.0</td>\n      <td>55.8</td>\n      <td>15.2</td>\n      <td>1229</td>\n      <td>324</td>\n    </tr>\n    <tr>\n      <th>220313</th>\n      <td>220314</td>\n      <td>15000US721537502023</td>\n      <td>1110</td>\n      <td>319</td>\n      <td>580</td>\n      <td>153</td>\n      <td>0</td>\n      <td>14</td>\n      <td>0</td>\n      <td>14</td>\n      <td>...</td>\n      <td>NaN</td>\n      <td>NaN</td>\n      <td>55.6</td>\n      <td>7.2</td>\n      <td>55.8</td>\n      <td>7.1</td>\n      <td>52.3</td>\n      <td>16.4</td>\n      <td>1110</td>\n      <td>319</td>\n    </tr>\n    <tr>\n      <th>220314</th>\n      <td>220315</td>\n      <td>15000US721537503001</td>\n      <td>1882</td>\n      <td>411</td>\n      <td>912</td>\n      <td>218</td>\n      <td>36</td>\n      <td>56</td>\n      <td>55</td>\n      <td>60</td>\n      <td>...</td>\n      <td>NaN</td>\n      <td>NaN</td>\n      <td>34.9</td>\n      <td>6.7</td>\n      <td>38.2</td>\n      <td>12.9</td>\n      <td>34.2</td>\n      <td>7.9</td>\n      <td>1882</td>\n      <td>411</td>\n    </tr>\n    <tr>\n      <th>220315</th>\n      <td>220316</td>\n      <td>15000US721537503002</td>\n      <td>2014</td>\n      <td>489</td>\n      <td>856</td>\n      <td>286</td>\n      <td>0</td>\n      <td>14</td>\n      <td>0</td>\n      <td>14</td>\n      <td>...</td>\n      <td>NaN</td>\n      <td>NaN</td>\n      <td>47.1</td>\n      <td>6.2</td>\n      <td>45.4</td>\n      <td>11.6</td>\n      <td>47.6</td>\n      <td>6.0</td>\n      <td>2014</td>\n      <td>489</td>\n    </tr>\n    <tr>\n      <th>220316</th>\n      <td>220317</td>\n      <td>15000US721537504001</td>\n      <td>731</td>\n      <td>311</td>\n      <td>370</td>\n      <td>175</td>\n      <td>27</td>\n      <td>43</td>\n      <td>17</td>\n      <td>28</td>\n      <td>...</td>\n      <td>NaN</td>\n      <td>NaN</td>\n      <td>49.5</td>\n      <td>8.2</td>\n      <td>41.9</td>\n      <td>19.1</td>\n      <td>51.1</td>\n      <td>4.0</td>\n      <td>731</td>\n      <td>311</td>\n    </tr>\n    <tr>\n      <th>220317</th>\n      <td>220318</td>\n      <td>15000US721537504002</td>\n      <td>646</td>\n      <td>218</td>\n      <td>280</td>\n      <td>107</td>\n      <td>0</td>\n      <td>14</td>\n      <td>0</td>\n      <td>14</td>\n      <td>...</td>\n      <td>NaN</td>\n      <td>NaN</td>\n      <td>55.4</td>\n      <td>3.9</td>\n      <td>54.2</td>\n      <td>7.4</td>\n      <td>56.7</td>\n      <td>27.5</td>\n      <td>646</td>\n      <td>218</td>\n    </tr>\n    <tr>\n      <th>220318</th>\n      <td>220319</td>\n      <td>15000US721537504003</td>\n      <td>309</td>\n      <td>140</td>\n      <td>163</td>\n      <td>95</td>\n      <td>18</td>\n      <td>29</td>\n      <td>0</td>\n      <td>14</td>\n      <td>...</td>\n      <td>NaN</td>\n      <td>NaN</td>\n      <td>58.4</td>\n      <td>10.5</td>\n      <td>65.4</td>\n      <td>11.8</td>\n      <td>49.3</td>\n      <td>28.5</td>\n      <td>309</td>\n      <td>140</td>\n    </tr>\n    <tr>\n      <th>220319</th>\n      <td>220320</td>\n      <td>15000US721537504004</td>\n      <td>638</td>\n      <td>268</td>\n      <td>246</td>\n      <td>144</td>\n      <td>18</td>\n      <td>29</td>\n      <td>0</td>\n      <td>14</td>\n      <td>...</td>\n      <td>NaN</td>\n      <td>NaN</td>\n      <td>40.8</td>\n      <td>10.9</td>\n      <td>47.2</td>\n      <td>16.1</td>\n      <td>40.8</td>\n      <td>5.2</td>\n      <td>638</td>\n      <td>268</td>\n    </tr>\n    <tr>\n      <th>220320</th>\n      <td>220321</td>\n      <td>15000US721537504005</td>\n      <td>581</td>\n      <td>272</td>\n      <td>245</td>\n      <td>121</td>\n      <td>34</td>\n      <td>53</td>\n      <td>17</td>\n      <td>27</td>\n      <td>...</td>\n      <td>NaN</td>\n      <td>NaN</td>\n      <td>42.0</td>\n      <td>14.2</td>\n      <td>29.5</td>\n      <td>27.2</td>\n      <td>46.8</td>\n      <td>16.1</td>\n      <td>581</td>\n      <td>272</td>\n    </tr>\n    <tr>\n      <th>220321</th>\n      <td>220322</td>\n      <td>15000US721537505011</td>\n      <td>1436</td>\n      <td>589</td>\n      <td>638</td>\n      <td>330</td>\n      <td>0</td>\n      <td>14</td>\n      <td>73</td>\n      <td>78</td>\n      <td>...</td>\n      <td>NaN</td>\n      <td>NaN</td>\n      <td>30.1</td>\n      <td>10.6</td>\n      <td>26.7</td>\n      <td>27.5</td>\n      <td>30.3</td>\n      <td>5.3</td>\n      <td>1436</td>\n      <td>589</td>\n    </tr>\n    <tr>\n      <th>220322</th>\n      <td>220323</td>\n      <td>15000US721537505012</td>\n      <td>3261</td>\n      <td>566</td>\n      <td>1519</td>\n      <td>329</td>\n      <td>16</td>\n      <td>25</td>\n      <td>155</td>\n      <td>88</td>\n      <td>...</td>\n      <td>NaN</td>\n      <td>NaN</td>\n      <td>35.5</td>\n      <td>2.6</td>\n      <td>34.9</td>\n      <td>3.5</td>\n      <td>37.0</td>\n      <td>6.8</td>\n      <td>3261</td>\n      <td>566</td>\n    </tr>\n    <tr>\n      <th>220323</th>\n      <td>220324</td>\n      <td>15000US721537505013</td>\n      <td>1416</td>\n      <td>490</td>\n      <td>663</td>\n      <td>266</td>\n      <td>0</td>\n      <td>14</td>\n      <td>143</td>\n      <td>168</td>\n      <td>...</td>\n      <td>NaN</td>\n      <td>NaN</td>\n      <td>42.8</td>\n      <td>12.8</td>\n      <td>42.5</td>\n      <td>15.0</td>\n      <td>49.4</td>\n      <td>19.6</td>\n      <td>1416</td>\n      <td>490</td>\n    </tr>\n    <tr>\n      <th>220324</th>\n      <td>220325</td>\n      <td>15000US721537505021</td>\n      <td>737</td>\n      <td>263</td>\n      <td>332</td>\n      <td>143</td>\n      <td>39</td>\n      <td>47</td>\n      <td>22</td>\n      <td>35</td>\n      <td>...</td>\n      <td>NaN</td>\n      <td>NaN</td>\n      <td>26.1</td>\n      <td>10.4</td>\n      <td>23.7</td>\n      <td>10.3</td>\n      <td>30.1</td>\n      <td>10.5</td>\n      <td>737</td>\n      <td>263</td>\n    </tr>\n    <tr>\n      <th>220325</th>\n      <td>220326</td>\n      <td>15000US721537505022</td>\n      <td>1651</td>\n      <td>316</td>\n      <td>766</td>\n      <td>189</td>\n      <td>11</td>\n      <td>16</td>\n      <td>74</td>\n      <td>62</td>\n      <td>...</td>\n      <td>NaN</td>\n      <td>NaN</td>\n      <td>40.8</td>\n      <td>11.1</td>\n      <td>40.8</td>\n      <td>14.1</td>\n      <td>40.9</td>\n      <td>11.5</td>\n      <td>1651</td>\n      <td>316</td>\n    </tr>\n    <tr>\n      <th>220326</th>\n      <td>220327</td>\n      <td>15000US721537505031</td>\n      <td>1145</td>\n      <td>330</td>\n      <td>551</td>\n      <td>185</td>\n      <td>16</td>\n      <td>25</td>\n      <td>17</td>\n      <td>28</td>\n      <td>...</td>\n      <td>NaN</td>\n      <td>NaN</td>\n      <td>40.3</td>\n      <td>16.9</td>\n      <td>45.3</td>\n      <td>20.1</td>\n      <td>35.1</td>\n      <td>13.2</td>\n      <td>1145</td>\n      <td>330</td>\n    </tr>\n    <tr>\n      <th>220327</th>\n      <td>220328</td>\n      <td>15000US721537505032</td>\n      <td>981</td>\n      <td>302</td>\n      <td>450</td>\n      <td>154</td>\n      <td>34</td>\n      <td>46</td>\n      <td>94</td>\n      <td>68</td>\n      <td>...</td>\n      <td>NaN</td>\n      <td>NaN</td>\n      <td>41.0</td>\n      <td>13.7</td>\n      <td>38.6</td>\n      <td>19.7</td>\n      <td>41.1</td>\n      <td>11.6</td>\n      <td>981</td>\n      <td>302</td>\n    </tr>\n    <tr>\n      <th>220328</th>\n      <td>220329</td>\n      <td>15000US721537506011</td>\n      <td>883</td>\n      <td>416</td>\n      <td>480</td>\n      <td>217</td>\n      <td>48</td>\n      <td>74</td>\n      <td>38</td>\n      <td>61</td>\n      <td>...</td>\n      <td>NaN</td>\n      <td>NaN</td>\n      <td>40.4</td>\n      <td>17.5</td>\n      <td>36.4</td>\n      <td>32.8</td>\n      <td>49.0</td>\n      <td>20.4</td>\n      <td>883</td>\n      <td>416</td>\n    </tr>\n    <tr>\n      <th>220329</th>\n      <td>220330</td>\n      <td>15000US721537506012</td>\n      <td>2523</td>\n      <td>569</td>\n      <td>1010</td>\n      <td>243</td>\n      <td>117</td>\n      <td>106</td>\n      <td>19</td>\n      <td>29</td>\n      <td>...</td>\n      <td>NaN</td>\n      <td>NaN</td>\n      <td>40.3</td>\n      <td>10.0</td>\n      <td>40.1</td>\n      <td>11.8</td>\n      <td>43.5</td>\n      <td>12.1</td>\n      <td>2523</td>\n      <td>569</td>\n    </tr>\n    <tr>\n      <th>220330</th>\n      <td>220331</td>\n      <td>15000US721537506013</td>\n      <td>991</td>\n      <td>378</td>\n      <td>477</td>\n      <td>216</td>\n      <td>33</td>\n      <td>53</td>\n      <td>0</td>\n      <td>14</td>\n      <td>...</td>\n      <td>NaN</td>\n      <td>NaN</td>\n      <td>23.2</td>\n      <td>5.8</td>\n      <td>18.4</td>\n      <td>3.1</td>\n      <td>24.7</td>\n      <td>13.9</td>\n      <td>991</td>\n      <td>378</td>\n    </tr>\n    <tr>\n      <th>220331</th>\n      <td>220332</td>\n      <td>15000US721537506021</td>\n      <td>1577</td>\n      <td>520</td>\n      <td>795</td>\n      <td>284</td>\n      <td>68</td>\n      <td>61</td>\n      <td>0</td>\n      <td>14</td>\n      <td>...</td>\n      <td>NaN</td>\n      <td>NaN</td>\n      <td>50.9</td>\n      <td>8.1</td>\n      <td>46.5</td>\n      <td>8.5</td>\n      <td>54.6</td>\n      <td>5.4</td>\n      <td>1577</td>\n      <td>520</td>\n    </tr>\n    <tr>\n      <th>220332</th>\n      <td>220333</td>\n      <td>15000US721537506022</td>\n      <td>648</td>\n      <td>312</td>\n      <td>335</td>\n      <td>154</td>\n      <td>43</td>\n      <td>67</td>\n      <td>0</td>\n      <td>14</td>\n      <td>...</td>\n      <td>NaN</td>\n      <td>NaN</td>\n      <td>40.4</td>\n      <td>13.3</td>\n      <td>32.2</td>\n      <td>7.9</td>\n      <td>48.4</td>\n      <td>15.3</td>\n      <td>648</td>\n      <td>312</td>\n    </tr>\n  </tbody>\n</table>\n<p>220333 rows × 162 columns</p>\n</div>"
     },
     "execution_count": 5,
     "metadata": {},
     "output_type": "execute_result"
    }
   ],
   "source": [
    "acs_df_x01 = pd.read_csv(os.path.join(PATH_TO_ACS_5YR_BG, 'ACS_2019_5YR_BG X01_AGE_AND_SEX.csv'))\n",
    "acs_df_x01\n"
   ],
   "metadata": {
    "collapsed": false,
    "pycharm": {
     "name": "#%%\n"
    }
   }
  },
  {
   "cell_type": "code",
   "execution_count": null,
   "outputs": [],
   "source": [
    "acs_df = acs_df.merge(acs_df_x01[[]], )\n"
   ],
   "metadata": {
    "collapsed": false,
    "pycharm": {
     "name": "#%%\n"
    }
   }
  },
  {
   "cell_type": "code",
   "execution_count": 7,
   "outputs": [
    {
     "data": {
      "text/plain": "Index(['OBJECTID', 'STATEFP', 'COUNTYFP', 'TRACTCE', 'BLKGRPCE', 'GEOID',\n       'NAMELSAD', 'MTFCC', 'FUNCSTAT', 'ALAND', 'AWATER', 'INTPTLAT',\n       'INTPTLON', 'Shape_Leng', 'Shape_Area', 'GEOID_Data'],\n      dtype='object')"
     },
     "execution_count": 7,
     "metadata": {},
     "output_type": "execute_result"
    }
   ],
   "source": [
    "acs_df.columns"
   ],
   "metadata": {
    "collapsed": false,
    "pycharm": {
     "name": "#%%\n"
    }
   }
  },
  {
   "cell_type": "code",
   "execution_count": 8,
   "outputs": [
    {
     "data": {
      "text/plain": "0         2.029247e+06\n1         4.292080e+06\n2         2.420730e+06\n3         1.443893e+06\n4         7.353911e+05\n5         1.672293e+06\n6         2.530616e+06\n7         5.275520e+05\n8         9.025542e+06\n9         7.953756e+06\n10        1.328000e+07\n11        1.026896e+06\n12        1.668555e+06\n13        8.840927e+05\n14        6.098466e+05\n15        5.964309e+05\n16        1.226069e+06\n17        4.783029e+05\n18        6.192645e+05\n19        3.654186e+05\n20        1.622096e+06\n21        2.171500e+06\n22        1.373743e+06\n23        7.995685e+05\n24        2.715685e+06\n25        6.747148e+06\n26        1.657172e+06\n27        3.630738e+08\n28        5.349134e+07\n29        5.311195e+06\n              ...     \n220303    1.672826e+05\n220304    8.586953e+05\n220305    4.067423e+06\n220306    3.127694e+05\n220307    1.462204e+06\n220308    3.983293e+06\n220309    6.817024e+06\n220310    2.070590e+06\n220311    2.230574e+06\n220312    5.193712e+05\n220313    2.047907e+05\n220314    5.739621e+07\n220315    1.581142e+06\n220316    9.558453e+04\n220317    1.290897e+07\n220318    1.675487e+05\n220319    2.498823e+07\n220320    1.819119e+06\n220321    1.061840e+05\n220322    3.308425e+05\n220323    1.335254e+05\n220324    4.391464e+05\n220325    1.129454e+05\n220326    6.277388e+04\n220327    1.507054e+05\n220328    1.393864e+05\n220329    1.094411e+05\n220330    1.994054e+05\n220331    4.989720e+05\n220332    6.215389e+05\nName: Shape_Area, Length: 220333, dtype: float64"
     },
     "execution_count": 8,
     "metadata": {},
     "output_type": "execute_result"
    }
   ],
   "source": [
    "acs_df['Shape_Area']\n"
   ],
   "metadata": {
    "collapsed": false,
    "pycharm": {
     "name": "#%%\n"
    }
   }
  }
 ],
 "metadata": {
  "kernelspec": {
   "name": "python3",
   "language": "python",
   "display_name": "Python 3"
  },
  "language_info": {
   "codemirror_mode": {
    "name": "ipython",
    "version": 3
   },
   "file_extension": ".py",
   "mimetype": "text/x-python",
   "name": "python",
   "nbconvert_exporter": "python",
   "pygments_lexer": "ipython3",
   "version": "3.7.2"
  }
 },
 "nbformat": 4,
 "nbformat_minor": 2
}