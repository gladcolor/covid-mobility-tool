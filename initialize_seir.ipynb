{
 "cells": [
  {
   "cell_type": "code",
   "execution_count": 4,
   "metadata": {},
   "outputs": [
    {
     "name": "stdout",
     "output_type": "stream",
     "text": [
      "The autoreload extension is already loaded. To reload it, use:\n",
      "  %reload_ext autoreload\n"
     ]
    }
   ],
   "source": [
    "%load_ext autoreload\n",
    "%autoreload 2\n",
    "from covid_constants_and_util import *\n",
    "import helper_methods_for_aggregate_data_analysis as helper\n",
    "from model_experiments import *\n",
    "import pandas as pd\n",
    "import os\n",
    "import matplotlib.pyplot as plt\n",
    "import datetime"
   ]
  },
  {
   "cell_type": "code",
   "execution_count": 2,
   "metadata": {},
   "outputs": [
    {
     "name": "stdout",
     "output_type": "stream",
     "text": [
      "Num dates 260\n"
     ]
    }
   ],
   "source": [
    "min_datetime = datetime.datetime(2020, 3, 1)\n",
    "max_datetime = datetime.datetime(2020, 11, 15)\n",
    "dates = helper.list_datetimes_in_range(min_datetime, max_datetime)\n",
    "print('Num dates', len(dates))\n",
    "s = datetime.datetime(2020, 11, 1, 0)  # start date"
   ]
  },
  {
   "cell_type": "code",
   "execution_count": 5,
   "metadata": {},
   "outputs": [
    {
     "name": "stdout",
     "output_type": "stream",
     "text": [
      "220333 rows of 2018 1-year ACS data read\n",
      "217739 rows of 2017 5-year ACS data read\n",
      "Found 3142 counties in ACS 5-year; 3219 counties in NYT -> 3135 overlap\n"
     ]
    },
    {
     "data": {
      "text/html": [
       "<div>\n",
       "<style scoped>\n",
       "    .dataframe tbody tr th:only-of-type {\n",
       "        vertical-align: middle;\n",
       "    }\n",
       "\n",
       "    .dataframe tbody tr th {\n",
       "        vertical-align: top;\n",
       "    }\n",
       "\n",
       "    .dataframe thead th {\n",
       "        text-align: right;\n",
       "    }\n",
       "</style>\n",
       "<table border=\"1\" class=\"dataframe\">\n",
       "  <thead>\n",
       "    <tr style=\"text-align: right;\">\n",
       "      <th></th>\n",
       "      <th>date</th>\n",
       "      <th>county</th>\n",
       "      <th>state</th>\n",
       "      <th>fips</th>\n",
       "      <th>cases</th>\n",
       "      <th>deaths</th>\n",
       "    </tr>\n",
       "  </thead>\n",
       "  <tbody>\n",
       "    <tr>\n",
       "      <th>0</th>\n",
       "      <td>2020-01-21</td>\n",
       "      <td>Snohomish</td>\n",
       "      <td>Washington</td>\n",
       "      <td>53061.0</td>\n",
       "      <td>1</td>\n",
       "      <td>0.0</td>\n",
       "    </tr>\n",
       "    <tr>\n",
       "      <th>1</th>\n",
       "      <td>2020-01-22</td>\n",
       "      <td>Snohomish</td>\n",
       "      <td>Washington</td>\n",
       "      <td>53061.0</td>\n",
       "      <td>1</td>\n",
       "      <td>0.0</td>\n",
       "    </tr>\n",
       "    <tr>\n",
       "      <th>2</th>\n",
       "      <td>2020-01-23</td>\n",
       "      <td>Snohomish</td>\n",
       "      <td>Washington</td>\n",
       "      <td>53061.0</td>\n",
       "      <td>1</td>\n",
       "      <td>0.0</td>\n",
       "    </tr>\n",
       "    <tr>\n",
       "      <th>3</th>\n",
       "      <td>2020-01-24</td>\n",
       "      <td>Cook</td>\n",
       "      <td>Illinois</td>\n",
       "      <td>17031.0</td>\n",
       "      <td>1</td>\n",
       "      <td>0.0</td>\n",
       "    </tr>\n",
       "    <tr>\n",
       "      <th>4</th>\n",
       "      <td>2020-01-24</td>\n",
       "      <td>Snohomish</td>\n",
       "      <td>Washington</td>\n",
       "      <td>53061.0</td>\n",
       "      <td>1</td>\n",
       "      <td>0.0</td>\n",
       "    </tr>\n",
       "  </tbody>\n",
       "</table>\n",
       "</div>"
      ],
      "text/plain": [
       "         date     county       state     fips  cases  deaths\n",
       "0  2020-01-21  Snohomish  Washington  53061.0      1     0.0\n",
       "1  2020-01-22  Snohomish  Washington  53061.0      1     0.0\n",
       "2  2020-01-23  Snohomish  Washington  53061.0      1     0.0\n",
       "3  2020-01-24       Cook    Illinois  17031.0      1     0.0\n",
       "4  2020-01-24  Snohomish  Washington  53061.0      1     0.0"
      ]
     },
     "execution_count": 5,
     "metadata": {},
     "output_type": "execute_result"
    }
   ],
   "source": [
    "# load county-level ACS and NYT data\n",
    "acs_5yr = pd.read_csv(PATH_TO_ACS_5YR_DATA)\n",
    "acs_5yr['id_to_match_to_safegraph_data'] = acs_5yr['GEOID'].map(lambda x:x.split(\"US\")[1]).astype(int)\n",
    "acs_5yr['fips'] = get_fips_codes_from_state_and_county_fp(acs_5yr.STATEFP, acs_5yr.COUNTYFP)\n",
    "acs_counties = acs_5yr.fips.unique()\n",
    "acs_data = helper.load_and_reconcile_multiple_acs_data()\n",
    "cbgs_to_census_pops = dict(zip(acs_data['census_block_group'].values,\n",
    "                            acs_data['total_cbg_population_2018_1YR'].values))  # use most recent population data\n",
    "county2cbgs = {}\n",
    "for county in acs_counties:\n",
    "    county_cbgs = acs_5yr[acs_5yr.fips == county]['id_to_match_to_safegraph_data'].values\n",
    "    pop_sizes = [cbgs_to_census_pops[c] for c in county_cbgs]\n",
    "    county2cbgs[county] = (county_cbgs, pop_sizes)\n",
    "\n",
    "nyt_outcomes = get_nyt_outcomes_over_counties()\n",
    "nyt_counties = nyt_outcomes.fips.unique()\n",
    "overlap_counties = set(acs_counties).intersection(set(nyt_counties))\n",
    "print('Found %d counties in ACS 5-year; %d counties in NYT -> %d overlap' % \n",
    "      (len(acs_counties), len(nyt_counties), len(overlap_counties)))\n",
    "nyt_outcomes.head()"
   ]
  },
  {
   "cell_type": "code",
   "execution_count": 6,
   "metadata": {},
   "outputs": [
    {
     "data": {
      "image/png": "[encoded data removed]",
      "text/plain": [
       "<Figure size 720x360 with 1 Axes>"
      ]
     },
     "metadata": {
      "needs_background": "light"
     },
     "output_type": "display_data"
    }
   ],
   "source": [
    "all_dates, all_rates = helper.get_daily_case_detection_rate()  # based on IHME estimate\n",
    "fig, ax = plt.subplots(figsize=(10,5))\n",
    "ax.plot_date(all_dates, all_rates, marker='.', markersize=5, linestyle='-')\n",
    "ax.xaxis.set_major_locator(mdates.MonthLocator())\n",
    "ax.xaxis.set_major_formatter(mdates.DateFormatter('%m-%d'))\n",
    "ax.set_ylabel('Case detection rate', fontsize=16)\n",
    "ax.tick_params(labelsize=14)\n",
    "ax.grid(alpha=0.3)\n",
    "plt.show()"
   ]
  },
  {
   "cell_type": "code",
   "execution_count": 17,
   "metadata": {},
   "outputs": [],
   "source": [
    "def get_seir_at_given_time(s, county, nyt_outcomes, county2cbgs, dates, rate_over_time, mode='cases', verbose=True):\n",
    "    assert mode in {'cases', 'deaths'}\n",
    "    county_df = nyt_outcomes[nyt_outcomes.fips == county]\n",
    "    county_name = county_df.iloc[0]['county']\n",
    "    state = county_df.iloc[0]['state']\n",
    "    cbgs, pop_sizes = county2cbgs[county]\n",
    "    if mode == 'deaths':\n",
    "        lag = datetime.timedelta(days=DEATH_LAG)\n",
    "    else:\n",
    "        lag = datetime.timedelta(days=DETECTION_LAG)\n",
    "    reported_dates = helper.list_datetimes_in_range(dates[0]+lag, dates[-1]+lag)\n",
    "    hours = helper.list_hours_in_range(dates[0], dates[-1]+datetime.timedelta(hours=23))\n",
    "    assert len(hours) == (len(dates) * 24)\n",
    "    assert s in hours\n",
    "    \n",
    "    # get cumulative and daily counts for county\n",
    "    cumulative_counts = []\n",
    "    first_date = np.min(county_df.date)\n",
    "    for date in reported_dates:\n",
    "        date_str = date.strftime('%Y-%m-%d')\n",
    "        sub_df = county_df[county_df.date == date_str]\n",
    "        if date_str < first_date:  # no data yet, assume count is 0\n",
    "            cumulative_counts.append(0)\n",
    "        elif len(sub_df) > 0:\n",
    "            assert len(sub_df) == 1\n",
    "            cumulative_counts.append(sub_df.iloc[0][mode])\n",
    "        else:\n",
    "            cumulative_counts.append(np.nan)\n",
    "    cumulative_counts = np.array(cumulative_counts)\n",
    "    num_nans = np.sum(np.isnan(cumulative_counts))\n",
    "    if num_nans > 0:  # this will print if there is a break in data\n",
    "        print('%s, %s: missing %s data for %d dates' % (county_name, state, mode, num_nans))\n",
    "    daily_counts = get_daily_from_cumulative(np.array(cumulative_counts))\n",
    "    # using np.nanmean will get rid of nans, unless the entire 2-week period is nan\n",
    "    smoothed_daily_counts = apply_smoothing(daily_counts, before=7, after=7, agg_func=np.nanmean)  # apply 2-week smoothing\n",
    "    if verbose:\n",
    "        fig, ax = plt.subplots(figsize=(7,5))\n",
    "        ax.plot_date(reported_dates, daily_counts, marker='x', color='grey')\n",
    "        ax.plot_date(reported_dates, smoothed_daily_counts, marker='.', linestyle='-', color='orange')\n",
    "        ax.xaxis.set_major_locator(mdates.WeekdayLocator(mdates.SU, interval=4))\n",
    "        ax.xaxis.set_major_formatter(mdates.DateFormatter('%m-%d'))\n",
    "        ax.set_ylabel('Daily %s' % mode)\n",
    "        ax.set_title(county_name)\n",
    "        plt.show()\n",
    "        \n",
    "    assert len(smoothed_daily_counts) == len(rate_over_time)\n",
    "    daily_E_to_I = smoothed_daily_counts / rate_over_time   # scale by time-varying rate\n",
    "    if verbose:\n",
    "        fig, ax = plt.subplots(figsize=(7,5))\n",
    "        ax.plot_date(dates, daily_E_to_I, marker='.', linestyle='-', color='blue')\n",
    "        ax.xaxis.set_major_locator(mdates.WeekdayLocator(mdates.SU, interval=4))\n",
    "        ax.xaxis.set_major_formatter(mdates.DateFormatter('%m-%d'))\n",
    "        ax.set_ylabel('Daily E->I')\n",
    "        ax.set_title(county_name)\n",
    "        plt.show()\n",
    "    \n",
    "    hourly_E_to_I = np.zeros(len(hours))  # convert daily to hourly\n",
    "    for t in range(len(hourly_E_to_I)):\n",
    "        d = int(t/24)\n",
    "        hourly_E_to_I[t] = daily_E_to_I[d] / 24  # assume 1/24 of daily count happened in each hour\n",
    "    s_index = hours.index(s)\n",
    "    latency_period = int(LATENCY_PERIOD_IN_DAYS * 24)  # in hours\n",
    "    infectious_period = int(INFECTIOUS_PERIOD_IN_DAYS * 24)\n",
    "    E = hourly_E_to_I * latency_period  # MLE\n",
    "    E_s = E[s_index]\n",
    "    I_s = E[s_index - latency_period]  # assume I is same as E but translated by latency_period\n",
    "    # at time s, everything that entered I before s - infectious_period will have made it to R\n",
    "    R_s = np.sum(hourly_E_to_I[:s_index - infectious_period])\n",
    "    total_pop = np.sum(pop_sizes)\n",
    "    S_s = total_pop - E_s - I_s - R_s\n",
    "    if verbose:\n",
    "        print('State of %s, %s on %s: S = %.1f%%; E = %.1f%%; I = %.1f%%; R = %.1f%%' % \n",
    "          (county_name, state, s.strftime('%Y-%m-%d'), \n",
    "           100. * S_s / total_pop, 100 * E_s / total_pop, 100. * I_s / total_pop, 100. * R_s / total_pop))\n",
    "    return S_s, E_s, I_s, R_s"
   ]
  },
  {
   "cell_type": "code",
   "execution_count": 19,
   "metadata": {
    "scrolled": true
   },
   "outputs": [
    {
     "name": "stdout",
     "output_type": "stream",
     "text": [
      "CHECKPOINT: finished processing 100 counties!\n",
      "CHECKPOINT: finished processing 200 counties!\n",
      "CHECKPOINT: finished processing 300 counties!\n",
      "CHECKPOINT: finished processing 400 counties!\n",
      "CHECKPOINT: finished processing 500 counties!\n",
      "Clark, Idaho: missing cases data for 6 dates\n",
      "Lewis, Idaho: missing cases data for 34 dates\n",
      "CHECKPOINT: finished processing 600 counties!\n",
      "CHECKPOINT: finished processing 700 counties!\n",
      "CHECKPOINT: finished processing 800 counties!\n",
      "CHECKPOINT: finished processing 900 counties!\n",
      "CHECKPOINT: finished processing 1000 counties!\n",
      "CHECKPOINT: finished processing 1100 counties!\n",
      "CHECKPOINT: finished processing 1200 counties!\n",
      "CHECKPOINT: finished processing 1300 counties!\n",
      "CHECKPOINT: finished processing 1400 counties!\n",
      "CHECKPOINT: finished processing 1500 counties!\n",
      "CHECKPOINT: finished processing 1600 counties!\n",
      "Dundy, Nebraska: missing cases data for 4 dates\n",
      "CHECKPOINT: finished processing 1700 counties!\n",
      "Keya Paha, Nebraska: missing cases data for 7 dates\n",
      "Sioux, Nebraska: missing cases data for 1 dates\n",
      "Wheeler, Nebraska: missing cases data for 9 dates\n",
      "CHECKPOINT: finished processing 1800 counties!\n",
      "CHECKPOINT: finished processing 1900 counties!\n",
      "CHECKPOINT: finished processing 2000 counties!\n",
      "Logan, North Dakota: missing cases data for 3 dates\n",
      "CHECKPOINT: finished processing 2100 counties!\n",
      "Roger Mills, Oklahoma: missing cases data for 4 dates\n",
      "CHECKPOINT: finished processing 2200 counties!\n",
      "CHECKPOINT: finished processing 2300 counties!\n",
      "CHECKPOINT: finished processing 2400 counties!\n",
      "CHECKPOINT: finished processing 2500 counties!\n",
      "CHECKPOINT: finished processing 2600 counties!\n",
      "Warning: fraction 0.162 of values are not greater than 0! clipping to 0\n",
      "Warning: fraction 0.108 of values are not greater than 0! clipping to 0\n",
      "CHECKPOINT: finished processing 2700 counties!\n",
      "Warning: fraction 0.112 of values are not greater than 0! clipping to 0\n",
      "CHECKPOINT: finished processing 2800 counties!\n",
      "Warning: fraction 0.169 of values are not greater than 0! clipping to 0\n",
      "CHECKPOINT: finished processing 2900 counties!\n",
      "CHECKPOINT: finished processing 3000 counties!\n",
      "CHECKPOINT: finished processing 3100 counties!\n"
     ]
    }
   ],
   "source": [
    "# SEIR estimates based on cases\n",
    "_, cdr_over_time = helper.get_daily_case_detection_rate(min_datetime=min_datetime, max_datetime=max_datetime)\n",
    "cases_county2seir = {}\n",
    "for i, county in enumerate(sorted(overlap_counties)):  # sort by fips - will naturally sort by state\n",
    "    cases_county2seir[county] = get_seir_at_given_time(s, county, nyt_outcomes, county2cbgs, dates, \n",
    "                                                       cdr_over_time, mode='cases', verbose=False)\n",
    "    if i % 100 == 99:\n",
    "        print('CHECKPOINT: finished processing %d counties!' % (i+1))"
   ]
  },
  {
   "cell_type": "code",
   "execution_count": 21,
   "metadata": {},
   "outputs": [
    {
     "name": "stdout",
     "output_type": "stream",
     "text": [
      "CHECKPOINT: finished processing 100 counties!\n",
      "CHECKPOINT: finished processing 200 counties!\n",
      "CHECKPOINT: finished processing 300 counties!\n",
      "CHECKPOINT: finished processing 400 counties!\n",
      "CHECKPOINT: finished processing 500 counties!\n",
      "Skipping Lewis, Idaho (6 CBGs) bc of nan SEIR\n",
      "CHECKPOINT: finished processing 600 counties!\n",
      "CHECKPOINT: finished processing 700 counties!\n",
      "CHECKPOINT: finished processing 800 counties!\n",
      "CHECKPOINT: finished processing 900 counties!\n",
      "CHECKPOINT: finished processing 1000 counties!\n",
      "CHECKPOINT: finished processing 1100 counties!\n",
      "CHECKPOINT: finished processing 1200 counties!\n",
      "CHECKPOINT: finished processing 1300 counties!\n",
      "CHECKPOINT: finished processing 1400 counties!\n",
      "CHECKPOINT: finished processing 1500 counties!\n",
      "CHECKPOINT: finished processing 1600 counties!\n",
      "CHECKPOINT: finished processing 1700 counties!\n",
      "CHECKPOINT: finished processing 1800 counties!\n",
      "CHECKPOINT: finished processing 1900 counties!\n",
      "CHECKPOINT: finished processing 2000 counties!\n",
      "CHECKPOINT: finished processing 2100 counties!\n",
      "CHECKPOINT: finished processing 2200 counties!\n",
      "CHECKPOINT: finished processing 2300 counties!\n",
      "CHECKPOINT: finished processing 2400 counties!\n",
      "CHECKPOINT: finished processing 2500 counties!\n",
      "CHECKPOINT: finished processing 2600 counties!\n",
      "CHECKPOINT: finished processing 2700 counties!\n",
      "CHECKPOINT: finished processing 2800 counties!\n",
      "CHECKPOINT: finished processing 2900 counties!\n",
      "CHECKPOINT: finished processing 3000 counties!\n",
      "CHECKPOINT: finished processing 3100 counties!\n",
      "Processed 3134 CBGs\n"
     ]
    }
   ],
   "source": [
    "# convert county-level to CBG-level\n",
    "mode = 'cases'\n",
    "county2seir = cases_county2seir\n",
    "rows = []\n",
    "for i, county in enumerate(sorted(overlap_counties)):\n",
    "    county_name = nyt_outcomes[nyt_outcomes.fips == county].iloc[0]['county']\n",
    "    county_state = nyt_outcomes[nyt_outcomes.fips == county].iloc[0]['state']\n",
    "    cbgs, popsizes = county2cbgs[county]\n",
    "    total_pop = np.sum(popsizes)  # county pop size\n",
    "    if i % 100 == 99:\n",
    "        print('CHECKPOINT: finished processing %d counties!' % (i+1))\n",
    "    seir = county2seir[county]\n",
    "    if np.sum(np.isnan(seir)) > 0:\n",
    "        print('Skipping %s, %s (%d CBGs) bc of nan SEIR' % (county_name, county_state, len(cbgs)))\n",
    "    else:\n",
    "        for cbg, cbg_pop in zip(cbgs, popsizes):\n",
    "            row = {'census_block_group':cbg, 'county_fips':county, 'county_name':county_name, 'state':county_state}\n",
    "            curr_sum = 0\n",
    "            for i, state in enumerate(['E', 'I', 'R']):\n",
    "                prop_in_state = seir[i+1] / total_pop  # assume CBGs within county have the same proportions\n",
    "                num_in_state = int(round(cbg_pop * prop_in_state, 0))\n",
    "                row['%s_%s' % (mode, state)] = num_in_state\n",
    "                curr_sum += num_in_state\n",
    "            row['%s_S' % mode] = cbg_pop - curr_sum  # do this to make sure it sums to population size; otherwise,\n",
    "                                                     # rounding might throw things off\n",
    "        assert len(row) == 8\n",
    "        rows.append(row)\n",
    "print('Processed %d CBGs' % len(rows))"
   ]
  },
  {
   "cell_type": "code",
   "execution_count": 23,
   "metadata": {},
   "outputs": [
    {
     "name": "stdout",
     "output_type": "stream",
     "text": [
      "/dfs/scratch2/second_safegraph_homes/all_aggregate_data/seir_init/all_cbgs_s=2020-11-01.csv\n"
     ]
    }
   ],
   "source": [
    "cols = ['census_block_group', 'county_fips', 'county_name', 'state',\n",
    "        'cases_S', 'cases_E', 'cases_I', 'cases_R']\n",
    "df = pd.DataFrame(rows)[cols]\n",
    "fn = os.path.join(PATH_TO_SEIR_INIT, 'all_cbgs_s=%s.csv' % (s.strftime('%Y-%m-%d')))\n",
    "print(fn)\n",
    "df.to_csv(fn, index=False)"
   ]
  }
 ],
 "metadata": {
  "kernelspec": {
   "display_name": "safegraph",
   "language": "python",
   "name": "safegraph"
  },
  "language_info": {
   "codemirror_mode": {
    "name": "ipython",
    "version": 3
   },
   "file_extension": ".py",
   "mimetype": "text/x-python",
   "name": "python",
   "nbconvert_exporter": "python",
   "pygments_lexer": "ipython3",
   "version": "3.7.2"
  }
 },
 "nbformat": 4,
 "nbformat_minor": 2
}
